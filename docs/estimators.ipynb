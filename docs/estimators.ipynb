{
 "cells": [
  {
   "cell_type": "markdown",
   "id": "annoying-edition",
   "metadata": {},
   "source": [
    "# Estimating transforms from data\n",
    "\n",
    "It is often necessary to estimate transformations between rigid bodies that are not explicitly known. This happens for example when the motion of the same rigid body is measured by different tracking systems that represent their data in different world frames."
   ]
  },
  {
   "cell_type": "markdown",
   "id": "billion-lexington",
   "metadata": {},
   "source": [
    "<div class=\"alert alert-info\">\n",
    "Note\n",
    "    \n",
    "The following examples require the `matplotlib` library.\n",
    "</div>"
   ]
  },
  {
   "cell_type": "code",
   "execution_count": null,
   "id": "bottom-provincial",
   "metadata": {},
   "outputs": [],
   "source": [
    "import matplotlib.pyplot as plt\n",
    "import numpy as np\n",
    "import rigid_body_motion as rbm\n",
    "\n",
    "plt.rcParams[\"figure.figsize\"] = (10, 5)"
   ]
  },
  {
   "cell_type": "code",
   "execution_count": null,
   "id": "discrete-virginia",
   "metadata": {},
   "outputs": [],
   "source": [
    "rbm.register_frame(\"world\")"
   ]
  },
  {
   "cell_type": "markdown",
   "id": "pressing-sphere",
   "metadata": {},
   "source": [
    "## Shortest arc rotation"
   ]
  },
  {
   "cell_type": "code",
   "execution_count": null,
   "id": "documented-opinion",
   "metadata": {},
   "outputs": [],
   "source": [
    "v1 = (1, 0, 0)\n",
    "v2 = (np.sqrt(2) / 2, np.sqrt(2) / 2, 0)"
   ]
  },
  {
   "cell_type": "code",
   "execution_count": null,
   "id": "saving-islam",
   "metadata": {},
   "outputs": [],
   "source": [
    "fig = plt.figure()\n",
    "ax = fig.add_subplot(111, projection=\"3d\")\n",
    "\n",
    "rbm.plot.reference_frame(\"world\", ax=ax)\n",
    "rbm.plot.vectors(v1, ax=ax, color=\"y\")\n",
    "rbm.plot.vectors(v2, ax=ax, color=\"c\")\n",
    "\n",
    "fig.tight_layout()"
   ]
  },
  {
   "cell_type": "code",
   "execution_count": null,
   "id": "secure-politics",
   "metadata": {},
   "outputs": [],
   "source": [
    "rbm.shortest_arc_rotation(v1, v2)"
   ]
  },
  {
   "cell_type": "code",
   "execution_count": null,
   "id": "failing-leader",
   "metadata": {},
   "outputs": [],
   "source": [
    "from quaternion import from_rotation_vector\n",
    "\n",
    "vr = np.zeros((10, 3))\n",
    "vr[:, 2] = np.linspace(0, np.pi / 8, 10)\n",
    "q = from_rotation_vector(vr)"
   ]
  },
  {
   "cell_type": "code",
   "execution_count": null,
   "id": "labeled-terrorism",
   "metadata": {},
   "outputs": [],
   "source": [
    "v2_arr = rbm.rotate_vectors(q, v2, one_to_one=False)"
   ]
  },
  {
   "cell_type": "code",
   "execution_count": null,
   "id": "pretty-fields",
   "metadata": {},
   "outputs": [],
   "source": [
    "fig = plt.figure()\n",
    "ax = fig.add_subplot(111, projection=\"3d\")\n",
    "\n",
    "rbm.plot.reference_frame(\"world\", ax=ax)\n",
    "rbm.plot.vectors(v1, ax=ax, color=\"y\")\n",
    "rbm.plot.vectors(v2_arr, ax=ax, color=\"c\", alpha=0.3)\n",
    "\n",
    "fig.tight_layout()"
   ]
  },
  {
   "cell_type": "code",
   "execution_count": null,
   "id": "fourth-subdivision",
   "metadata": {},
   "outputs": [],
   "source": [
    "rbm.shortest_arc_rotation(v1, v2_arr)"
   ]
  },
  {
   "cell_type": "markdown",
   "id": "modified-calculation",
   "metadata": {},
   "source": [
    "## Best fit rotation"
   ]
  },
  {
   "cell_type": "code",
   "execution_count": null,
   "id": "convertible-cooking",
   "metadata": {},
   "outputs": [],
   "source": [
    "v1_arr = rbm.rotate_vectors(q, v1, one_to_one=False)"
   ]
  },
  {
   "cell_type": "code",
   "execution_count": null,
   "id": "optional-exploration",
   "metadata": {},
   "outputs": [],
   "source": [
    "fig = plt.figure()\n",
    "ax = fig.add_subplot(111, projection=\"3d\")\n",
    "\n",
    "rbm.plot.reference_frame(\"world\", ax=ax)\n",
    "rbm.plot.vectors(v1_arr, ax=ax, color=\"y\", alpha=0.3)\n",
    "rbm.plot.vectors(v2_arr, ax=ax, color=\"c\", alpha=0.3)\n",
    "\n",
    "fig.tight_layout()"
   ]
  },
  {
   "cell_type": "code",
   "execution_count": null,
   "id": "silent-pasta",
   "metadata": {},
   "outputs": [],
   "source": [
    "rbm.best_fit_rotation(v1_arr, v2_arr)"
   ]
  },
  {
   "cell_type": "markdown",
   "id": "fluid-correlation",
   "metadata": {},
   "source": [
    "## Best fit transform"
   ]
  },
  {
   "cell_type": "code",
   "execution_count": null,
   "id": "soviet-consolidation",
   "metadata": {},
   "outputs": [],
   "source": [
    "p1_arr = 0.1 * np.random.randn(100, 3)"
   ]
  },
  {
   "cell_type": "code",
   "execution_count": null,
   "id": "regular-polish",
   "metadata": {},
   "outputs": [],
   "source": [
    "t = np.array((1, 1, 0))\n",
    "r = np.array([0.92387953, 0, 0, 0.38268343])\n",
    "p2_arr = rbm.rotate_vectors(r, p1_arr, one_to_one=False) + t"
   ]
  },
  {
   "cell_type": "code",
   "execution_count": null,
   "id": "equipped-washer",
   "metadata": {},
   "outputs": [],
   "source": [
    "p2_arr.shape"
   ]
  },
  {
   "cell_type": "code",
   "execution_count": null,
   "id": "beautiful-intent",
   "metadata": {},
   "outputs": [],
   "source": [
    "fig = plt.figure()\n",
    "ax = fig.add_subplot(111, projection=\"3d\")\n",
    "\n",
    "rbm.plot.reference_frame(\"world\", ax=ax)\n",
    "rbm.plot.points(p1_arr, ax=ax, fmt=\"yo\")\n",
    "rbm.plot.points(p2_arr, ax=ax, fmt=\"co\")\n",
    "\n",
    "fig.tight_layout()"
   ]
  },
  {
   "cell_type": "code",
   "execution_count": null,
   "id": "hearing-regression",
   "metadata": {},
   "outputs": [],
   "source": [
    "rbm.best_fit_transform(p1_arr, p2_arr)"
   ]
  },
  {
   "cell_type": "markdown",
   "id": "square-intranet",
   "metadata": {},
   "source": [
    "## Iterative closest point"
   ]
  },
  {
   "cell_type": "code",
   "execution_count": null,
   "id": "narrow-diagram",
   "metadata": {},
   "outputs": [],
   "source": [
    "rbm.iterative_closest_point(p1_arr, np.random.permutation(p2_arr))"
   ]
  }
 ],
 "metadata": {
  "kernelspec": {
   "display_name": "Python [conda env:rbm]",
   "language": "python",
   "name": "conda-env-rbm-py"
  },
  "language_info": {
   "codemirror_mode": {
    "name": "ipython",
    "version": 3
   },
   "file_extension": ".py",
   "mimetype": "text/x-python",
   "name": "python",
   "nbconvert_exporter": "python",
   "pygments_lexer": "ipython3",
   "version": "3.6.13"
  }
 },
 "nbformat": 4,
 "nbformat_minor": 5
}
