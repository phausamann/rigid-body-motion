{
 "cells": [
  {
   "cell_type": "markdown",
   "metadata": {},
   "source": [
    "# Reference frames\n",
    "\n",
    "rigid_body_motion provides a flexible high-performance framework for working offline with motion data. The core of this framework is a mechanism for constructing trees of both static and dynamic reference frames that supports automatic lookup and application of transformations across the tree."
   ]
  },
  {
   "cell_type": "code",
   "execution_count": null,
   "metadata": {},
   "outputs": [],
   "source": [
    "import numpy as np\n",
    "import rigid_body_motion as rbm"
   ]
  },
  {
   "cell_type": "markdown",
   "metadata": {},
   "source": [
    "<div class=\"alert alert-info\">\n",
    "Note\n",
    "    \n",
    "The following examples require the `matplotlib` library.\n",
    "</div>"
   ]
  },
  {
   "cell_type": "code",
   "execution_count": null,
   "metadata": {},
   "outputs": [],
   "source": [
    "import matplotlib.pyplot as plt\n",
    "\n",
    "plt.rcParams[\"figure.figsize\"] = (6, 6)"
   ]
  },
  {
   "cell_type": "markdown",
   "metadata": {},
   "source": [
    "## Static frames\n",
    "\n",
    "We will begin by defining a world reference frame using the [ReferenceFrame](_generated/rigid_body_motion.ReferenceFrame.rst) class:"
   ]
  },
  {
   "cell_type": "code",
   "execution_count": null,
   "metadata": {},
   "outputs": [],
   "source": [
    "rf_world = rbm.ReferenceFrame(\"world\")"
   ]
  },
  {
   "cell_type": "markdown",
   "metadata": {},
   "source": [
    "Now we can add a second reference frame as a child of the world frame. This frame is translated by 5 meters (or any other unit) in the x direction and rotated 180° around the yaw axis. Note that rotations are represented as [unit quaternions](https://en.wikipedia.org/wiki/Quaternions_and_spatial_rotation) by default."
   ]
  },
  {
   "cell_type": "code",
   "execution_count": null,
   "metadata": {},
   "outputs": [],
   "source": [
    "rf_observer = rbm.ReferenceFrame(\n",
    "    \"observer\", parent=rf_world, translation=(5, 0, 0), rotation=(0, 0, 0, 1)\n",
    ")"
   ]
  },
  {
   "cell_type": "markdown",
   "metadata": {},
   "source": [
    "We can show the reference frame tree with the [render_tree](_generated/rigid_body_motion.render_tree.rst) function:"
   ]
  },
  {
   "cell_type": "code",
   "execution_count": null,
   "metadata": {},
   "outputs": [],
   "source": [
    "rbm.render_tree(rf_world)"
   ]
  },
  {
   "cell_type": "markdown",
   "metadata": {},
   "source": [
    "It is also possible to show a 3d plot of static reference frames with [plot.reference_frame()](_generated/rigid_body_motion.plot.reference_frame.rst):"
   ]
  },
  {
   "cell_type": "code",
   "execution_count": null,
   "metadata": {},
   "outputs": [],
   "source": [
    "fig = plt.figure()\n",
    "ax = fig.add_subplot(111, projection=\"3d\")\n",
    "\n",
    "rbm.plot.reference_frame(rf_world, ax=ax)\n",
    "rbm.plot.reference_frame(rf_observer, rf_world, ax=ax)"
   ]
  },
  {
   "cell_type": "markdown",
   "metadata": {},
   "source": [
    "To facilitate referring to previously defined frames, the library has a registry where frames can be stored (and later looked up) by name with [ReferenceFrame.register()](api/_generated/rigid_body_motion.ReferenceFrame.register.rst):"
   ]
  },
  {
   "cell_type": "code",
   "execution_count": null,
   "metadata": {},
   "outputs": [],
   "source": [
    "rf_world.register()\n",
    "rf_observer.register()\n",
    "rbm.registry"
   ]
  },
  {
   "cell_type": "markdown",
   "metadata": {},
   "source": [
    "## Transforming positions and orientations\n",
    "\n",
    "Now that we've set up a basic tree, we can use it to transform motion between reference frames. Let's assume we have a body that moves from the origin of the world frame to the origin of the observer frame in 5 steps:"
   ]
  },
  {
   "cell_type": "code",
   "execution_count": null,
   "metadata": {},
   "outputs": [],
   "source": [
    "p_body_world = np.zeros((5, 3))\n",
    "p_body_world[:, 0] = np.linspace(0, 5, 5)\n",
    "p_body_world[:, 0]"
   ]
  },
  {
   "cell_type": "markdown",
   "metadata": {},
   "source": [
    "We can add the body positions to the plot with [plot.points()](_generated/rigid_body_motion.plot.points.rst):"
   ]
  },
  {
   "cell_type": "code",
   "execution_count": null,
   "metadata": {},
   "outputs": [],
   "source": [
    "fig = plt.figure()\n",
    "ax = fig.add_subplot(111, projection=\"3d\")\n",
    "\n",
    "rbm.plot.reference_frame(rf_world, ax=ax)\n",
    "rbm.plot.reference_frame(rf_observer, rf_world, ax=ax)\n",
    "rbm.plot.points(p_body_world, ax=ax, fmt=\"yo-\")"
   ]
  },
  {
   "cell_type": "markdown",
   "metadata": {},
   "source": [
    "To compute the position of the body with respect to (wrt) the observer, we use [transform_points()](_generated/rigid_body_motion.transform_points.rst):"
   ]
  },
  {
   "cell_type": "code",
   "execution_count": null,
   "metadata": {},
   "outputs": [],
   "source": [
    "p_body_observer = rbm.transform_points(p_body_world, outof=\"world\", into=\"observer\")\n",
    "p_body_observer[:, 0]"
   ]
  },
  {
   "cell_type": "markdown",
   "metadata": {},
   "source": [
    "As expected, the resulting motion of the body is in the x direction, towards the observer."
   ]
  },
  {
   "cell_type": "markdown",
   "metadata": {},
   "source": [
    "Orientations expressed in quaternions can be transformed with [transform_quaternions()](_generated/rigid_body_motion.transform_quaternions.rst):"
   ]
  },
  {
   "cell_type": "code",
   "execution_count": null,
   "metadata": {},
   "outputs": [],
   "source": [
    "orientation = [1, 0, 0, 0]\n",
    "rbm.transform_quaternions(orientation, outof=\"world\", into=\"observer\")"
   ]
  },
  {
   "cell_type": "markdown",
   "metadata": {},
   "source": [
    "## Moving frames"
   ]
  },
  {
   "cell_type": "code",
   "execution_count": null,
   "metadata": {},
   "outputs": [],
   "source": [
    "ts_body = np.arange(5)"
   ]
  },
  {
   "cell_type": "markdown",
   "metadata": {},
   "source": []
  },
  {
   "cell_type": "code",
   "execution_count": null,
   "metadata": {},
   "outputs": [],
   "source": [
    "rbm.register_frame(\"body\", translation=p_body_world, timestamps=ts_body, parent=\"world\")\n",
    "rbm.render_tree(\"world\")"
   ]
  },
  {
   "cell_type": "markdown",
   "metadata": {},
   "source": []
  },
  {
   "cell_type": "code",
   "execution_count": null,
   "metadata": {},
   "outputs": [],
   "source": [
    "rbm.transform_points([1, 0, 0], outof=\"world\", into=\"body\")[:, 0]"
   ]
  },
  {
   "cell_type": "code",
   "execution_count": null,
   "metadata": {},
   "outputs": [],
   "source": [
    "p_body2_world = np.zeros((5, 3))\n",
    "p_body2_world[:, 1] = np.linspace(0, 1, 5)\n",
    "ts_body2 = ts_body - 0.5"
   ]
  },
  {
   "cell_type": "markdown",
   "metadata": {},
   "source": []
  },
  {
   "cell_type": "code",
   "execution_count": null,
   "metadata": {},
   "outputs": [],
   "source": [
    "p_body2_body, ts_body2_body = rbm.transform_points(\n",
    "    p_body2_world ,\n",
    "    outof=\"world\",\n",
    "    into=\"body\",\n",
    "    timestamps=ts_body2,\n",
    "    return_timestamps=True,\n",
    ")"
   ]
  },
  {
   "cell_type": "markdown",
   "metadata": {},
   "source": [
    "Let's plot the position of both bodies wrt the world frame as well as the position of the second body wrt the first body to see how the timestamp matching works:"
   ]
  },
  {
   "cell_type": "code",
   "execution_count": null,
   "metadata": {},
   "outputs": [],
   "source": [
    "fig, axarr = plt.subplots(3, 1, sharex=True, sharey=True)\n",
    "\n",
    "axarr[0].plot(ts_body, p_body_world, \"*-\")\n",
    "axarr[0].legend([\"x\", \"y\", \"z\"])\n",
    "axarr[0].set_ylabel(\"Position (m)\")\n",
    "axarr[0].set_title(\"First body wrt world frame\")\n",
    "axarr[0].grid(\"on\")\n",
    "\n",
    "axarr[1].plot(ts_body2, p_body2_world, \"*-\")\n",
    "axarr[1].set_ylabel(\"Position (m)\")\n",
    "axarr[1].set_title(\"Second body wrt world frame\")\n",
    "axarr[1].grid(\"on\")\n",
    "\n",
    "axarr[2].plot(ts_body2_body, p_body2_body, \"*-\")\n",
    "axarr[2].set_xlabel(\"Time (s)\")\n",
    "axarr[2].set_ylabel(\"Position (m)\")\n",
    "axarr[2].set_title(\"Second body wrt first body frame\")\n",
    "axarr[2].grid(\"on\")\n",
    "\n",
    "fig.tight_layout()"
   ]
  },
  {
   "cell_type": "markdown",
   "metadata": {},
   "source": [
    "## Looking up transforms and velocities"
   ]
  },
  {
   "cell_type": "code",
   "execution_count": null,
   "metadata": {},
   "outputs": [],
   "source": [
    "translation, rotation, ts = rbm.lookup_transform(\"body\", \"world\")\n",
    "translation[:, 0]"
   ]
  },
  {
   "cell_type": "markdown",
   "metadata": {},
   "source": []
  },
  {
   "cell_type": "code",
   "execution_count": null,
   "metadata": {},
   "outputs": [],
   "source": [
    "linear, angular, ts = rbm.lookup_twist(\"body\", \"world\")\n",
    "linear[:, 0]"
   ]
  }
 ],
 "metadata": {
  "kernelspec": {
   "display_name": "Python [conda env:rbm]",
   "language": "python",
   "name": "conda-env-rbm-py"
  },
  "language_info": {
   "codemirror_mode": {
    "name": "ipython",
    "version": 3
   },
   "file_extension": ".py",
   "mimetype": "text/x-python",
   "name": "python",
   "nbconvert_exporter": "python",
   "pygments_lexer": "ipython3",
   "version": "3.6.11"
  }
 },
 "nbformat": 4,
 "nbformat_minor": 5
}
