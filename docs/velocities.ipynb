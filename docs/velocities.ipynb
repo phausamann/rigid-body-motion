{
 "cells": [
  {
   "cell_type": "markdown",
   "metadata": {},
   "source": [
    "# Linear and angular velocity"
   ]
  },
  {
   "cell_type": "code",
   "execution_count": null,
   "metadata": {},
   "outputs": [],
   "source": [
    "import numpy as np\n",
    "import rigid_body_motion as rbm"
   ]
  },
  {
   "cell_type": "markdown",
   "metadata": {},
   "source": [
    "<div class=\"alert alert-info\">\n",
    "Note\n",
    "    \n",
    "The following examples require the `matplotlib` library.\n",
    "</div>"
   ]
  },
  {
   "cell_type": "code",
   "execution_count": null,
   "metadata": {},
   "outputs": [],
   "source": [
    "import matplotlib.pyplot as plt\n",
    "\n",
    "plt.rcParams[\"figure.figsize\"] = (6, 6)"
   ]
  },
  {
   "cell_type": "markdown",
   "metadata": {},
   "source": [
    "Like in the previous tutorial, we first set up the world frame:"
   ]
  },
  {
   "cell_type": "code",
   "execution_count": null,
   "metadata": {},
   "outputs": [],
   "source": [
    "rbm.register_frame(\"world\")"
   ]
  },
  {
   "cell_type": "markdown",
   "metadata": {},
   "source": [
    "For simplicity, all reference frames will share the same timestamps:"
   ]
  },
  {
   "cell_type": "code",
   "execution_count": null,
   "metadata": {},
   "outputs": [],
   "source": [
    "n_timestamps = 10\n",
    "ts = np.linspace(0, 5, n_timestamps)"
   ]
  },
  {
   "cell_type": "markdown",
   "metadata": {},
   "source": [
    "We define a body moving 5 meters in the x direction:"
   ]
  },
  {
   "cell_type": "code",
   "execution_count": null,
   "metadata": {},
   "outputs": [],
   "source": [
    "p_body_world = np.zeros((n_timestamps, 3))\n",
    "p_body_world[:, 0] = np.linspace(0, 5, n_timestamps)"
   ]
  },
  {
   "cell_type": "markdown",
   "metadata": {},
   "source": [
    "In addition, this body will rotate 90° around the z axis. We use helper functions from the `quaternion` package for this:"
   ]
  },
  {
   "cell_type": "code",
   "execution_count": null,
   "metadata": {},
   "outputs": [],
   "source": [
    "from quaternion import as_float_array, from_euler_angles\n",
    "\n",
    "o_body_world = as_float_array(\n",
    "    from_euler_angles(np.linspace(0, np.pi / 4, n_timestamps), 0, 0)\n",
    ")"
   ]
  },
  {
   "cell_type": "markdown",
   "metadata": {},
   "source": [
    "Now we can attach a reference frame to this body:"
   ]
  },
  {
   "cell_type": "code",
   "execution_count": null,
   "metadata": {},
   "outputs": [],
   "source": [
    "rbm.register_frame(\n",
    "    \"body\",\n",
    "    translation=p_body_world,\n",
    "    rotation=o_body_world,\n",
    "    timestamps=ts,\n",
    "    parent=\"world\",\n",
    ")"
   ]
  },
  {
   "cell_type": "markdown",
   "metadata": {},
   "source": [
    "We now define a second moving body whose motion we describe wrt the frame of the first body. It is located at 1 meter in the y direction and moves 1 meter in the negative x direction."
   ]
  },
  {
   "cell_type": "code",
   "execution_count": null,
   "metadata": {},
   "outputs": [],
   "source": [
    "p_body2_body = np.zeros((n_timestamps, 3))\n",
    "p_body2_body[:, 0] = -np.linspace(0, 1, n_timestamps)\n",
    "p_body2_body[:, 1] = 1"
   ]
  },
  {
   "cell_type": "markdown",
   "metadata": {},
   "source": [
    "This body also rotates, but this time around the y axis:"
   ]
  },
  {
   "cell_type": "code",
   "execution_count": null,
   "metadata": {},
   "outputs": [],
   "source": [
    "o_body2_body = as_float_array(\n",
    "    from_euler_angles(0, np.linspace(0, np.pi / 4, n_timestamps), 0)\n",
    ")"
   ]
  },
  {
   "cell_type": "markdown",
   "metadata": {},
   "source": [
    "Now we can register a frame attached to the second body as a child frame of the first body frame:"
   ]
  },
  {
   "cell_type": "code",
   "execution_count": null,
   "metadata": {},
   "outputs": [],
   "source": [
    "rbm.register_frame(\n",
    "    \"body2\",\n",
    "    translation=p_body2_body,\n",
    "    rotation=o_body2_body,\n",
    "    timestamps=ts,\n",
    "    parent=\"body\",\n",
    ")"
   ]
  },
  {
   "cell_type": "markdown",
   "metadata": {},
   "source": [
    "Let's plot the position of both bodies wrt the world frame. We use the [lookup_pose()](_generated/rigid_body_motion.lookup_pose.rst) method to obtain the position of the second body in the world frame:"
   ]
  },
  {
   "cell_type": "code",
   "execution_count": null,
   "metadata": {},
   "outputs": [],
   "source": [
    "p_body2_world, _ = rbm.lookup_pose(\"body2\", \"world\")\n",
    "\n",
    "fig = plt.figure()\n",
    "ax = fig.add_subplot(111, projection=\"3d\")\n",
    "\n",
    "rbm.plot.points(p_body_world, ax=ax, fmt=\"yo-\")\n",
    "rbm.plot.points(p_body2_world, ax=ax, fmt=\"co-\")\n",
    "rbm.plot.reference_frame(\"world\", ax=ax)\n",
    "\n",
    "fig.tight_layout()"
   ]
  },
  {
   "cell_type": "markdown",
   "metadata": {},
   "source": [
    "## Linear velocity"
   ]
  },
  {
   "cell_type": "code",
   "execution_count": null,
   "metadata": {},
   "outputs": [],
   "source": [
    "v_body2_body = rbm.lookup_linear_velocity(\"body2\", \"body\")\n",
    "v_body2_body[0]"
   ]
  },
  {
   "cell_type": "markdown",
   "metadata": {},
   "source": [
    "### Transforming the reference frame\n",
    "\n",
    "$$v_{B2/W} = \\underbrace{v_{B2/B}}_{\\text{Input}} + \\underbrace{v_{B/W} + \\omega_{B/W} \\times t_{B2/B}}_{\\text{Lookup}}$$"
   ]
  },
  {
   "cell_type": "code",
   "execution_count": null,
   "metadata": {},
   "outputs": [],
   "source": [
    "v_body2_world_t = rbm.transform_linear_velocity(\n",
    "    v_body2_body, outof=\"body\", into=\"world\", moving_frame=\"body2\", timestamps=ts,\n",
    ")"
   ]
  },
  {
   "cell_type": "code",
   "execution_count": null,
   "metadata": {},
   "outputs": [],
   "source": []
  },
  {
   "cell_type": "code",
   "execution_count": null,
   "metadata": {},
   "outputs": [],
   "source": [
    "v_body2_world_l = rbm.lookup_linear_velocity(\"body2\", \"world\")"
   ]
  },
  {
   "cell_type": "code",
   "execution_count": null,
   "metadata": {},
   "outputs": [],
   "source": []
  },
  {
   "cell_type": "code",
   "execution_count": null,
   "metadata": {},
   "outputs": [],
   "source": [
    "def compare_velocities(transform, lookup, timestamps=None, mode=\"linear\"):\n",
    "    \"\"\" Compare velocities from transform and lookup. \"\"\"\n",
    "    fig, axarr = plt.subplots(2, 1, sharex=True, sharey=True)\n",
    "\n",
    "    ylabel = f\"{mode.capitalize()} velocity ({'rad/s' if mode == 'angular' else 'm/s'})\"\n",
    "\n",
    "    axarr[0].plot(timestamps, transform)\n",
    "    axarr[0].set_ylabel(ylabel)\n",
    "    axarr[0].set_title(\"Transform\")\n",
    "\n",
    "    axarr[1].plot(timestamps, lookup)\n",
    "    axarr[1].set_xlabel(\"Time (s)\")\n",
    "    axarr[1].set_ylabel(ylabel)\n",
    "    axarr[1].set_title(\"Lookup\")\n",
    "    axarr[1].legend([\"x\", \"y\", \"z\"])\n",
    "\n",
    "    fig.tight_layout()"
   ]
  },
  {
   "cell_type": "markdown",
   "metadata": {},
   "source": []
  },
  {
   "cell_type": "code",
   "execution_count": null,
   "metadata": {},
   "outputs": [],
   "source": [
    "compare_velocities(v_body2_world_t, v_body2_world_l, ts)"
   ]
  },
  {
   "cell_type": "markdown",
   "metadata": {},
   "source": []
  },
  {
   "cell_type": "markdown",
   "metadata": {},
   "source": [
    "### Transforming the moving frame\n",
    "\n",
    "$$v_{B2/W} = \\underbrace{v_{B/W}}_{\\text{Input}} + \\underbrace{v_{B2/B} + \\omega_{B/W} \\times t_{B2/B}}_{\\text{Lookup}}$$"
   ]
  },
  {
   "cell_type": "code",
   "execution_count": null,
   "metadata": {},
   "outputs": [],
   "source": [
    "v_body_world = rbm.lookup_linear_velocity(\"body\", \"world\", represent_in=\"body\")"
   ]
  },
  {
   "cell_type": "markdown",
   "metadata": {},
   "source": []
  },
  {
   "cell_type": "code",
   "execution_count": null,
   "metadata": {},
   "outputs": [],
   "source": [
    "v_body2_world_t = rbm.transform_linear_velocity(\n",
    "    v_body_world,\n",
    "    outof=\"body\",\n",
    "    into=\"body2\",\n",
    "    reference_frame=\"world\",\n",
    "    what=\"moving_frame\",\n",
    "    timestamps=ts,\n",
    ")"
   ]
  },
  {
   "cell_type": "markdown",
   "metadata": {},
   "source": []
  },
  {
   "cell_type": "code",
   "execution_count": null,
   "metadata": {},
   "outputs": [],
   "source": [
    "v_body2_world_l = rbm.lookup_linear_velocity(\"body2\", \"world\", represent_in=\"body2\")"
   ]
  },
  {
   "cell_type": "code",
   "execution_count": null,
   "metadata": {},
   "outputs": [],
   "source": [
    "compare_velocities(v_body2_world_t, v_body2_world_l, ts)"
   ]
  },
  {
   "cell_type": "markdown",
   "metadata": {},
   "source": []
  },
  {
   "cell_type": "markdown",
   "metadata": {},
   "source": [
    "## Angular velocity"
   ]
  },
  {
   "cell_type": "markdown",
   "metadata": {},
   "source": []
  },
  {
   "cell_type": "code",
   "execution_count": null,
   "metadata": {},
   "outputs": [],
   "source": [
    "w_body2_body = rbm.lookup_angular_velocity(\"body2\", \"body\")\n",
    "w_body2_body[0]"
   ]
  },
  {
   "cell_type": "markdown",
   "metadata": {},
   "source": [
    "### Transforming the reference frame\n",
    "\n",
    "$$\\omega_{B2/W} = \\underbrace{\\omega_{B/W}}_{\\text{Input}} + \\underbrace{\\omega_{B2/B}}_{\\text{Lookup}}$$"
   ]
  },
  {
   "cell_type": "code",
   "execution_count": null,
   "metadata": {},
   "outputs": [],
   "source": [
    "w_body2_world_t = rbm.transform_angular_velocity(\n",
    "    w_body2_body, outof=\"body\", into=\"world\", timestamps=ts\n",
    ")"
   ]
  },
  {
   "cell_type": "markdown",
   "metadata": {},
   "source": []
  },
  {
   "cell_type": "code",
   "execution_count": null,
   "metadata": {},
   "outputs": [],
   "source": [
    "w_body2_world_l = rbm.lookup_angular_velocity(\"body2\", \"world\")"
   ]
  },
  {
   "cell_type": "code",
   "execution_count": null,
   "metadata": {},
   "outputs": [],
   "source": [
    "compare_velocities(w_body2_world_t, w_body2_world_l, ts, mode=\"angular\")"
   ]
  },
  {
   "cell_type": "markdown",
   "metadata": {},
   "source": [
    "### Transforming the moving frame\n",
    "\n",
    "$$\\omega_{B2/W} = \\underbrace{\\omega_{B/W}}_{\\text{Input}} + \\underbrace{\\omega_{B2/B}}_{\\text{Lookup}}$$"
   ]
  },
  {
   "cell_type": "code",
   "execution_count": null,
   "metadata": {},
   "outputs": [],
   "source": [
    "w_body_world = rbm.lookup_angular_velocity(\"body\", \"world\", represent_in=\"body\")"
   ]
  },
  {
   "cell_type": "markdown",
   "metadata": {},
   "source": []
  },
  {
   "cell_type": "code",
   "execution_count": null,
   "metadata": {},
   "outputs": [],
   "source": [
    "w_body2_world_t = rbm.transform_angular_velocity(\n",
    "    w_body_world, outof=\"body\", into=\"body2\", what=\"moving_frame\", timestamps=ts,\n",
    ")"
   ]
  },
  {
   "cell_type": "markdown",
   "metadata": {},
   "source": []
  },
  {
   "cell_type": "code",
   "execution_count": null,
   "metadata": {},
   "outputs": [],
   "source": [
    "w_body2_world_l = rbm.lookup_angular_velocity(\"body2\", \"world\", represent_in=\"body2\")"
   ]
  },
  {
   "cell_type": "code",
   "execution_count": null,
   "metadata": {},
   "outputs": [],
   "source": [
    "compare_velocities(w_body2_world_t, w_body2_world_l, ts, mode=\"angular\")"
   ]
  }
 ],
 "metadata": {
  "kernelspec": {
   "display_name": "Python [conda env:rbm]",
   "language": "python",
   "name": "conda-env-rbm-py"
  },
  "language_info": {
   "codemirror_mode": {
    "name": "ipython",
    "version": 3
   },
   "file_extension": ".py",
   "mimetype": "text/x-python",
   "name": "python",
   "nbconvert_exporter": "python",
   "pygments_lexer": "ipython3",
   "version": "3.6.11"
  }
 },
 "nbformat": 4,
 "nbformat_minor": 5
}
