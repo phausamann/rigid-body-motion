{
 "cells": [
  {
   "cell_type": "markdown",
   "metadata": {},
   "source": [
    "# ROS integration\n",
    "\n",
    "rigid_body_motion supports certain ROS functionality, provided the Python environment has been set up with the required ROS packages. This guide assumes that you are at least somewhat familiar with ROS concepts such as nodes, publishers/subscribers and messages. If not, the [ROS tutorials](http://wiki.ros.org/ROS/Tutorials) are a good place to start.\n",
    "\n",
    "You also need to set up a couple of dependencies which can be done very conveniently if you are using an Anaconda Python distribution. See [the ROS dependencies installation guide](installation.rst#ros-integration) for further information."
   ]
  },
  {
   "cell_type": "markdown",
   "metadata": {},
   "source": [
    "<div class=\"alert alert-info\">\n",
    "Note\n",
    "    \n",
    "The following examples require the `pooch`, `xarray`, `netcdf4` and `ipywidgets` libraries.\n",
    "</div>"
   ]
  },
  {
   "cell_type": "code",
   "execution_count": 1,
   "metadata": {
    "execution": {
     "iopub.execute_input": "2022-02-12T08:10:09.199837Z",
     "iopub.status.busy": "2022-02-12T08:10:09.199357Z",
     "iopub.status.idle": "2022-02-12T08:10:10.498314Z",
     "shell.execute_reply": "2022-02-12T08:10:10.497742Z"
    }
   },
   "outputs": [],
   "source": [
    "import numpy as np\n",
    "import pandas as pd\n",
    "import rigid_body_motion as rbm"
   ]
  },
  {
   "cell_type": "markdown",
   "metadata": {},
   "source": [
    "## Loading data from rosbag files\n",
    "\n",
    "Data can be loaded from rosbag files into numpy arrays. So far, `geometry_msgs/TransformStamped` and `nav_msgs/Odometry` messages are supported. This is done through the [RosbagReader](_generated/rigid_body_motion.ros.RosbagReader.rst) class:"
   ]
  },
  {
   "cell_type": "code",
   "execution_count": 2,
   "metadata": {
    "execution": {
     "iopub.execute_input": "2022-02-12T08:10:10.502188Z",
     "iopub.status.busy": "2022-02-12T08:10:10.501678Z",
     "iopub.status.idle": "2022-02-12T08:10:12.449379Z",
     "shell.execute_reply": "2022-02-12T08:10:12.448906Z"
    }
   },
   "outputs": [
    {
     "name": "stderr",
     "output_type": "stream",
     "text": [
      "Downloading data from 'https://github.com/phausamann/rbm-data/raw/main/example.bag' to file '/home/runner/.cache/pooch/447a93042051dbc5689c8ed153185a15-example.bag'.\n"
     ]
    }
   ],
   "source": [
    "reader = rbm.ros.RosbagReader(rbm.example_data[\"rosbag\"])"
   ]
  },
  {
   "cell_type": "markdown",
   "metadata": {},
   "source": [
    "The reader can be used as a context manager to facilitate opening and closing of the rosbag. The `get_topics_and_types` method returns a dict with topic names and corresponding message types:"
   ]
  },
  {
   "cell_type": "code",
   "execution_count": 3,
   "metadata": {
    "execution": {
     "iopub.execute_input": "2022-02-12T08:10:12.453632Z",
     "iopub.status.busy": "2022-02-12T08:10:12.452421Z",
     "iopub.status.idle": "2022-02-12T08:10:15.050223Z",
     "shell.execute_reply": "2022-02-12T08:10:15.049820Z"
    }
   },
   "outputs": [
    {
     "data": {
      "text/plain": [
       "{'/pupil/left_eye/transform': 'geometry_msgs/TransformStamped',\n",
       " '/pupil/right_eye/transform': 'geometry_msgs/TransformStamped',\n",
       " '/t265/transform': 'geometry_msgs/TransformStamped'}"
      ]
     },
     "execution_count": 3,
     "metadata": {},
     "output_type": "execute_result"
    }
   ],
   "source": [
    "with reader:\n",
    "    info = reader.get_topics_and_types()\n",
    "info"
   ]
  },
  {
   "cell_type": "markdown",
   "metadata": {},
   "source": [
    "<div class=\"alert alert-info\">\n",
    "Note\n",
    "    \n",
    "If you get an `ModuleNotFoundError: No module named 'rosbag'` at this point, there is an issue with the ROS dependencies. See [the ROS dependencies troubleshooting guide](installation.rst#troubleshooting) to fix this.\n",
    "</div>"
   ]
  },
  {
   "cell_type": "markdown",
   "metadata": {},
   "source": [
    "The data included in the example rosbag is from a [head/eye tracking study](https://dl.acm.org/doi/pdf/10.1145/3379156.3391365) and contains head-in-world pose estimated by the Intel RealSense T265 as well as eye-in-head pose for both eyes estimated by the Pupil Core eye tracker. "
   ]
  },
  {
   "cell_type": "markdown",
   "metadata": {},
   "source": [
    "The `load_messages` method returns a dict with the data from a specified topic:"
   ]
  },
  {
   "cell_type": "code",
   "execution_count": 4,
   "metadata": {
    "execution": {
     "iopub.execute_input": "2022-02-12T08:10:15.053609Z",
     "iopub.status.busy": "2022-02-12T08:10:15.053233Z",
     "iopub.status.idle": "2022-02-12T08:10:18.502830Z",
     "shell.execute_reply": "2022-02-12T08:10:18.503452Z"
    }
   },
   "outputs": [
    {
     "data": {
      "text/plain": [
       "{'timestamps': array([1.58060323e+09, 1.58060323e+09, 1.58060323e+09, ...,\n",
       "        1.58060357e+09, 1.58060357e+09, 1.58060357e+09]),\n",
       " 'position': array([[15.9316,  0.8211, 10.5429],\n",
       "        [15.9354,  0.8208, 10.5382],\n",
       "        [15.9393,  0.8204, 10.5335],\n",
       "        ...,\n",
       "        [29.8883,  2.8952,  7.6317],\n",
       "        [29.8888,  2.8943,  7.6249],\n",
       "        [29.8892,  2.8935,  7.6182]]),\n",
       " 'orientation': array([[-0.9687,  0.0917,  0.2306,  0.0039],\n",
       "        [-0.969 ,  0.0915,  0.2295,  0.005 ],\n",
       "        [-0.9693,  0.0912,  0.2285,  0.0061],\n",
       "        ...,\n",
       "        [-0.9915,  0.0915,  0.0929, -0.0022],\n",
       "        [-0.9914,  0.0922,  0.0927, -0.0017],\n",
       "        [-0.9913,  0.0932,  0.0925, -0.001 ]])}"
      ]
     },
     "execution_count": 4,
     "metadata": {},
     "output_type": "execute_result"
    }
   ],
   "source": [
    "with reader:\n",
    "    head = reader.load_messages(\"/t265/transform\")\n",
    "head"
   ]
  },
  {
   "cell_type": "markdown",
   "metadata": {},
   "source": [
    "Now we can construct a reference frame tree with this data:"
   ]
  },
  {
   "cell_type": "code",
   "execution_count": 5,
   "metadata": {
    "execution": {
     "iopub.execute_input": "2022-02-12T08:10:18.507395Z",
     "iopub.status.busy": "2022-02-12T08:10:18.506515Z",
     "iopub.status.idle": "2022-02-12T08:10:18.509684Z",
     "shell.execute_reply": "2022-02-12T08:10:18.509371Z"
    }
   },
   "outputs": [],
   "source": [
    "rbm.register_frame(\"world\")"
   ]
  },
  {
   "cell_type": "markdown",
   "metadata": {},
   "source": [
    "The T265 uses the VR coordinate convention (x right, y up, z towards the back of the device) which differs from the default ROS convention (x forward, y left, z up):"
   ]
  },
  {
   "cell_type": "code",
   "execution_count": 6,
   "metadata": {
    "execution": {
     "iopub.execute_input": "2022-02-12T08:10:18.514392Z",
     "iopub.status.busy": "2022-02-12T08:10:18.514012Z",
     "iopub.status.idle": "2022-02-12T08:10:18.515446Z",
     "shell.execute_reply": "2022-02-12T08:10:18.515802Z"
    }
   },
   "outputs": [],
   "source": [
    "R_T265_ROS = np.array([[0.0, 0.0, -1.0], [-1.0, 0.0, 0.0], [0.0, 1.0, 0.0]])\n",
    "\n",
    "rbm.ReferenceFrame.from_rotation_matrix(\n",
    "    R_T265_ROS, parent=\"world\", name=\"t265/world\"\n",
    ").register()"
   ]
  },
  {
   "cell_type": "markdown",
   "metadata": {},
   "source": [
    "The recorded data describes the transformation from the T265 world frame to the tracker frame:"
   ]
  },
  {
   "cell_type": "code",
   "execution_count": 7,
   "metadata": {
    "execution": {
     "iopub.execute_input": "2022-02-12T08:10:18.517904Z",
     "iopub.status.busy": "2022-02-12T08:10:18.517534Z",
     "iopub.status.idle": "2022-02-12T08:10:18.523131Z",
     "shell.execute_reply": "2022-02-12T08:10:18.523489Z"
    }
   },
   "outputs": [],
   "source": [
    "rbm.register_frame(\n",
    "    \"t265/tracker\",\n",
    "    parent=\"t265/world\",\n",
    "    translation=head[\"position\"],\n",
    "    rotation=head[\"orientation\"],\n",
    "    timestamps=pd.to_datetime(head[\"timestamps\"], unit=\"s\"),\n",
    ")"
   ]
  },
  {
   "cell_type": "markdown",
   "metadata": {},
   "source": [
    "For visualization, we define an additional `\"head\"` frame that represents the tracker pose with the ROS coordinate convention:"
   ]
  },
  {
   "cell_type": "code",
   "execution_count": 8,
   "metadata": {
    "execution": {
     "iopub.execute_input": "2022-02-12T08:10:18.525564Z",
     "iopub.status.busy": "2022-02-12T08:10:18.525192Z",
     "iopub.status.idle": "2022-02-12T08:10:18.528289Z",
     "shell.execute_reply": "2022-02-12T08:10:18.528643Z"
    }
   },
   "outputs": [],
   "source": [
    "rbm.ReferenceFrame.from_rotation_matrix(\n",
    "    R_T265_ROS, parent=\"t265/tracker\", name=\"head\", inverse=True,\n",
    ").register()"
   ]
  },
  {
   "cell_type": "code",
   "execution_count": 9,
   "metadata": {
    "execution": {
     "iopub.execute_input": "2022-02-12T08:10:18.531582Z",
     "iopub.status.busy": "2022-02-12T08:10:18.531217Z",
     "iopub.status.idle": "2022-02-12T08:10:18.533109Z",
     "shell.execute_reply": "2022-02-12T08:10:18.533467Z"
    }
   },
   "outputs": [
    {
     "name": "stdout",
     "output_type": "stream",
     "text": [
      "world\n",
      "└── t265/world\n",
      "    └── t265/tracker\n",
      "        └── head\n"
     ]
    }
   ],
   "source": [
    "rbm.render_tree(\"world\")"
   ]
  },
  {
   "cell_type": "markdown",
   "metadata": {},
   "source": [
    "## Visualization with RViz\n",
    "\n",
    "This section will show you how to broadcast reference frame transforms on the `/tf` topic as well as publish other messages that are useful for visualization in RViz. If you are not familiar with RViz and/or tf, check out the [RViz user guide](http://wiki.ros.org/rviz/UserGuide) and the [tf package documentation](http://wiki.ros.org/tf).  You can download an `.rviz` file where all topics created in the following are already set up [here](_static/example.rviz)."
   ]
  },
  {
   "cell_type": "markdown",
   "metadata": {},
   "source": [
    "We start by creating a node for this notebook with the [init_node()](_generated/rigid_body_motion.ros.init_node.rst) method. This method will also automatically start a `roscore` when `start_master=True` and another ROS master isn't already running:"
   ]
  },
  {
   "cell_type": "code",
   "execution_count": 10,
   "metadata": {
    "execution": {
     "iopub.execute_input": "2022-02-12T08:10:18.535311Z",
     "iopub.status.busy": "2022-02-12T08:10:18.534948Z",
     "iopub.status.idle": "2022-02-12T08:10:19.251564Z",
     "shell.execute_reply": "2022-02-12T08:10:19.251875Z"
    }
   },
   "outputs": [
    {
     "name": "stdout",
     "output_type": "stream",
     "text": [
      "\u001b[1mstarted roslaunch server http://fv-az128-520:34849/\u001b[0m\n",
      "ros_comm version 1.15.9\n",
      "\n",
      "\n",
      "SUMMARY\n",
      "========\n",
      "\n",
      "PARAMETERS\n",
      " * /rosdistro: noetic\n",
      " * /rosversion: 1.15.9\n",
      "\n",
      "NODES\n",
      "\n",
      "auto-starting new master\n"
     ]
    },
    {
     "name": "stdout",
     "output_type": "stream",
     "text": [
      "\u001b[1mprocess[master]: started with pid [5216]\u001b[0m\n"
     ]
    },
    {
     "name": "stdout",
     "output_type": "stream",
     "text": [
      "\u001b[1mROS_MASTER_URI=http://localhost:11311\u001b[0m\n",
      "\u001b[1msetting /run_id to master\u001b[0m\n",
      "\u001b[1mprocess[rosout-1]: started with pid [5226]\u001b[0m\n",
      "started core service [/rosout]\n"
     ]
    }
   ],
   "source": [
    "master = rbm.ros.init_node(\"rbm_vis\", start_master=True)"
   ]
  },
  {
   "cell_type": "markdown",
   "metadata": {},
   "source": [
    "Transforms between reference frames can easily be broadcast on the `/tf` topic with the [ReferenceFrameTransformBroadcaster](_generated/rigid_body_motion.ros.ReferenceFrameTransformBroadcaster.rst) class:"
   ]
  },
  {
   "cell_type": "code",
   "execution_count": 11,
   "metadata": {
    "execution": {
     "iopub.execute_input": "2022-02-12T08:10:19.255707Z",
     "iopub.status.busy": "2022-02-12T08:10:19.255335Z",
     "iopub.status.idle": "2022-02-12T08:10:19.381419Z",
     "shell.execute_reply": "2022-02-12T08:10:19.380930Z"
    }
   },
   "outputs": [],
   "source": [
    "tf_world_head = rbm.ros.ReferenceFrameTransformBroadcaster(\"head\", base=\"world\")"
   ]
  },
  {
   "cell_type": "markdown",
   "metadata": {},
   "source": [
    "When calling [publish](_generated/rigid_body_motion.ros.ReferenceFrameTransformBroadcaster.rst#rigid_body_motion.ros.ReferenceFrameTransformBroadcaster.publish) the transform between world and head frame will be broadcast on the `/tf` topic. Since the head frame is a moving frame this will broadcast the first valid transform between the two frames by default:"
   ]
  },
  {
   "cell_type": "code",
   "execution_count": 12,
   "metadata": {
    "execution": {
     "iopub.execute_input": "2022-02-12T08:10:19.385844Z",
     "iopub.status.busy": "2022-02-12T08:10:19.384948Z",
     "iopub.status.idle": "2022-02-12T08:10:19.386298Z",
     "shell.execute_reply": "2022-02-12T08:10:19.386596Z"
    }
   },
   "outputs": [],
   "source": [
    "tf_world_head.publish()"
   ]
  },
  {
   "cell_type": "markdown",
   "metadata": {},
   "source": [
    "RViz should now show both frames:\n",
    "\n",
    "<img src=\"_static/img/rviz_0.png\" style=\"width: 800px;\"/>"
   ]
  },
  {
   "cell_type": "markdown",
   "metadata": {},
   "source": [
    "The broadcaster stores all valid transforms between the two frames in the `translation`, `rotation` and `timestamps` attributes:"
   ]
  },
  {
   "cell_type": "code",
   "execution_count": 13,
   "metadata": {
    "execution": {
     "iopub.execute_input": "2022-02-12T08:10:19.390913Z",
     "iopub.status.busy": "2022-02-12T08:10:19.390525Z",
     "iopub.status.idle": "2022-02-12T08:10:19.392392Z",
     "shell.execute_reply": "2022-02-12T08:10:19.392694Z"
    }
   },
   "outputs": [
    {
     "data": {
      "text/plain": [
       "(66629, 3)"
      ]
     },
     "execution_count": 13,
     "metadata": {},
     "output_type": "execute_result"
    }
   ],
   "source": [
    "tf_world_head.translation.shape"
   ]
  },
  {
   "cell_type": "markdown",
   "metadata": {},
   "source": [
    "You can broadcast the transform between two frames at different points in time by specifying an index into these arrays as an argument to [publish](_generated/rigid_body_motion.ros.ReferenceFrameTransformBroadcaster.rst#rigid_body_motion.ros.ReferenceFrameTransformBroadcaster.publish):"
   ]
  },
  {
   "cell_type": "code",
   "execution_count": 14,
   "metadata": {
    "execution": {
     "iopub.execute_input": "2022-02-12T08:10:19.395830Z",
     "iopub.status.busy": "2022-02-12T08:10:19.395461Z",
     "iopub.status.idle": "2022-02-12T08:10:19.397167Z",
     "shell.execute_reply": "2022-02-12T08:10:19.396857Z"
    }
   },
   "outputs": [],
   "source": [
    "tf_world_head.publish(1000)"
   ]
  },
  {
   "cell_type": "markdown",
   "metadata": {},
   "source": [
    "<div class=\"alert alert-info\">\n",
    "Note \n",
    "\n",
    "When \"going back in time\", i.e., broadcasting transforms with timestamps older than the latest broadcast timestamp, RViz will not update the tf display and you may get a `TF_OLD_DATA` warning in the console. When this happens, click on the \"Reset\" button in the lower left corner in RViz.\n",
    "</div>"
   ]
  },
  {
   "cell_type": "markdown",
   "metadata": {},
   "source": [
    "The entire transformation between moving frames can be visualized with the [ReferenceFrameMarkerPublisher](_generated/rigid_body_motion.ros.ReferenceFrameMarkerPublisher.rst) which publishes the translation of all valid timestamps as a `visualization_msgs/Marker` message on the `/<frame_name>/path` topic: "
   ]
  },
  {
   "cell_type": "code",
   "execution_count": 15,
   "metadata": {
    "execution": {
     "iopub.execute_input": "2022-02-12T08:10:19.399946Z",
     "iopub.status.busy": "2022-02-12T08:10:19.399578Z",
     "iopub.status.idle": "2022-02-12T08:10:19.507711Z",
     "shell.execute_reply": "2022-02-12T08:10:19.508027Z"
    }
   },
   "outputs": [],
   "source": [
    "marker_publisher = rbm.ros.ReferenceFrameMarkerPublisher(\"head\", base=\"world\")\n",
    "marker_publisher.publish()"
   ]
  },
  {
   "cell_type": "code",
   "execution_count": 16,
   "metadata": {
    "execution": {
     "iopub.execute_input": "2022-02-12T08:10:19.512737Z",
     "iopub.status.busy": "2022-02-12T08:10:19.512286Z",
     "iopub.status.idle": "2022-02-12T08:10:19.515736Z",
     "shell.execute_reply": "2022-02-12T08:10:19.515358Z"
    }
   },
   "outputs": [
    {
     "data": {
      "text/plain": [
       "[['/head/path', 'visualization_msgs/Marker']]"
      ]
     },
     "execution_count": 16,
     "metadata": {},
     "output_type": "execute_result"
    }
   ],
   "source": [
    "import rospy\n",
    "\n",
    "rospy.get_published_topics(\"/head\")"
   ]
  },
  {
   "cell_type": "markdown",
   "metadata": {},
   "source": [
    "RViz should now show the trajectory of the head frame as a white line:\n",
    "\n",
    "<img src=\"_static/img/rviz_1.png\" style=\"width: 800px;\"/>"
   ]
  },
  {
   "cell_type": "markdown",
   "metadata": {},
   "source": [
    "Next, we will load data from the Pupil Core eye tracker to demonstrate how multiple moving frames can be visualized. With the [load_dataset](_generated/rigid_body_motion.ros.RosbagReader.rst#rigid_body_motion.ros.RosbagReader.load_dataset) method, the data is imported as an `xarray.Dataset` and `cache=True` enables local caching in the netCDF4 format for faster loading."
   ]
  },
  {
   "cell_type": "code",
   "execution_count": 17,
   "metadata": {
    "execution": {
     "iopub.execute_input": "2022-02-12T08:10:19.519591Z",
     "iopub.status.busy": "2022-02-12T08:10:19.519172Z",
     "iopub.status.idle": "2022-02-12T08:10:24.158922Z",
     "shell.execute_reply": "2022-02-12T08:10:24.158483Z"
    }
   },
   "outputs": [],
   "source": [
    "with reader:\n",
    "    left_eye = reader.load_dataset(\"/pupil/left_eye/transform\", cache=True)\n",
    "\n",
    "left_eye = left_eye.dropna(\"time\")"
   ]
  },
  {
   "cell_type": "markdown",
   "metadata": {},
   "source": [
    "The transform between the T265 and the Pupil Core scene camera was determined in the study with a camera calibration routine and is provided here as hard-coded parameters:"
   ]
  },
  {
   "cell_type": "code",
   "execution_count": 18,
   "metadata": {
    "execution": {
     "iopub.execute_input": "2022-02-12T08:10:24.163666Z",
     "iopub.status.busy": "2022-02-12T08:10:24.163258Z",
     "iopub.status.idle": "2022-02-12T08:10:24.165677Z",
     "shell.execute_reply": "2022-02-12T08:10:24.165964Z"
    }
   },
   "outputs": [],
   "source": [
    "t_t265_pupil = (24.5e-3, -29e-3, 0.0)\n",
    "r_t265_pupil = (-0.00125, -1.0, 6.3463e-05, 3.977e-06)\n",
    "\n",
    "rbm.register_frame(\n",
    "    \"pupil/scene_cam\",\n",
    "    parent=\"t265/tracker\",\n",
    "    translation=t_t265_pupil,\n",
    "    rotation=r_t265_pupil,\n",
    ")"
   ]
  },
  {
   "cell_type": "markdown",
   "metadata": {},
   "source": [
    "The reference frame of the left eye is constructed from the Dataset:"
   ]
  },
  {
   "cell_type": "code",
   "execution_count": 19,
   "metadata": {
    "execution": {
     "iopub.execute_input": "2022-02-12T08:10:24.169514Z",
     "iopub.status.busy": "2022-02-12T08:10:24.169141Z",
     "iopub.status.idle": "2022-02-12T08:10:24.171779Z",
     "shell.execute_reply": "2022-02-12T08:10:24.171445Z"
    }
   },
   "outputs": [],
   "source": [
    "rbm.ReferenceFrame.from_dataset(\n",
    "    left_eye,\n",
    "    \"position\",\n",
    "    \"orientation\",\n",
    "    \"time\",\n",
    "    parent=\"pupil/scene_cam\",\n",
    "    name=\"pupil/left_eye\",\n",
    ").register()"
   ]
  },
  {
   "cell_type": "markdown",
   "metadata": {},
   "source": [
    "The eye tracker data uses yet another coordinate convention (x right, y down, z forward) which we need to take into account when visualizing the eye frame:"
   ]
  },
  {
   "cell_type": "code",
   "execution_count": 20,
   "metadata": {
    "execution": {
     "iopub.execute_input": "2022-02-12T08:10:24.176350Z",
     "iopub.status.busy": "2022-02-12T08:10:24.175974Z",
     "iopub.status.idle": "2022-02-12T08:10:24.177256Z",
     "shell.execute_reply": "2022-02-12T08:10:24.177610Z"
    }
   },
   "outputs": [],
   "source": [
    "R_PUPIL_ROS = np.array([[0.0, -1.0, 0.0], [0.0, 0.0, -1.0], [1.0, 0.0, 0.0]])\n",
    "\n",
    "rbm.ReferenceFrame.from_rotation_matrix(\n",
    "    R_PUPIL_ROS, parent=\"pupil/left_eye\", name=\"left_eye\"\n",
    ").register(update=True)"
   ]
  },
  {
   "cell_type": "code",
   "execution_count": 21,
   "metadata": {
    "execution": {
     "iopub.execute_input": "2022-02-12T08:10:24.179501Z",
     "iopub.status.busy": "2022-02-12T08:10:24.179135Z",
     "iopub.status.idle": "2022-02-12T08:10:24.182455Z",
     "shell.execute_reply": "2022-02-12T08:10:24.182811Z"
    }
   },
   "outputs": [
    {
     "name": "stdout",
     "output_type": "stream",
     "text": [
      "world\n",
      "└── t265/world\n",
      "    └── t265/tracker\n",
      "        ├── head\n",
      "        └── pupil/scene_cam\n",
      "            └── pupil/left_eye\n",
      "                └── left_eye\n"
     ]
    }
   ],
   "source": [
    "rbm.render_tree(\"world\")"
   ]
  },
  {
   "cell_type": "markdown",
   "metadata": {},
   "source": [
    "Now we create another broadcaster for the transform between head and eye frame. With `publish_pose=True`, the broadcaster also publishes a `geometry_msgs/PoseStamped` message on the `/<frame_name>/pose` topic. This message can be visualized in RViz as an arrow which avoids cluttering for frames that are close together. In order to publish messages in sync with the world/head transform, we specify `subscribe=\"head\"`. This way, the broadcaster checks for new messages on the `/tf` topic where the `child_frame_id` is `\"head\"` and publishes its own transform with the closest timestamp:"
   ]
  },
  {
   "cell_type": "code",
   "execution_count": 22,
   "metadata": {
    "execution": {
     "iopub.execute_input": "2022-02-12T08:10:24.184650Z",
     "iopub.status.busy": "2022-02-12T08:10:24.184283Z",
     "iopub.status.idle": "2022-02-12T08:10:24.335373Z",
     "shell.execute_reply": "2022-02-12T08:10:24.334157Z"
    }
   },
   "outputs": [],
   "source": [
    "tf_head_left_eye = rbm.ros.ReferenceFrameTransformBroadcaster(\n",
    "    \"left_eye\", base=\"head\", publish_pose=True, subscribe=\"head\"\n",
    ")"
   ]
  },
  {
   "cell_type": "markdown",
   "metadata": {},
   "source": [
    "Calling the [spin](_generated/rigid_body_motion.ros.ReferenceFrameTransformBroadcaster.rst#rigid_body_motion.ros.ReferenceFrameTransformBroadcaster.spin) method dispatches the broadcaster to a separate thread where it will keep checking for new world/head transforms:"
   ]
  },
  {
   "cell_type": "code",
   "execution_count": 23,
   "metadata": {
    "execution": {
     "iopub.execute_input": "2022-02-12T08:10:24.339019Z",
     "iopub.status.busy": "2022-02-12T08:10:24.338638Z",
     "iopub.status.idle": "2022-02-12T08:10:24.342021Z",
     "shell.execute_reply": "2022-02-12T08:10:24.341666Z"
    }
   },
   "outputs": [],
   "source": [
    "tf_head_left_eye.spin()"
   ]
  },
  {
   "cell_type": "markdown",
   "metadata": {},
   "source": [
    "Finally, the [play_publisher](_generated/rigid_body_motion.ros.play_publisher.rst) method provides a notebook widget to play back data from a broadcaster. With `step=2` it broadcasts every second transform and with `speed=0.5` the data is played back at half the recorded speed:"
   ]
  },
  {
   "cell_type": "code",
   "execution_count": 24,
   "metadata": {
    "execution": {
     "iopub.execute_input": "2022-02-12T08:10:24.345120Z",
     "iopub.status.busy": "2022-02-12T08:10:24.344716Z",
     "iopub.status.idle": "2022-02-12T08:10:24.416246Z",
     "shell.execute_reply": "2022-02-12T08:10:24.415903Z"
    }
   },
   "outputs": [
    {
     "data": {
      "application/vnd.jupyter.widget-view+json": {
       "model_id": "dfcab8ffeecc49cbb483cfb0245d52e4",
       "version_major": 2,
       "version_minor": 0
      },
      "text/plain": [
       "HBox(children=(IntSlider(value=0, description='Index', max=66628), Button(description='◄◄', layout=Layout(widt…"
      ]
     },
     "metadata": {},
     "output_type": "display_data"
    },
    {
     "data": {
      "application/vnd.jupyter.widget-view+json": {
       "model_id": "162cf4bc1bd54c8aac7e03a8b0994414",
       "version_major": 2,
       "version_minor": 0
      },
      "text/plain": [
       "Output()"
      ]
     },
     "metadata": {},
     "output_type": "display_data"
    }
   ],
   "source": [
    "rbm.ros.play_publisher(tf_world_head, step=2, speed=0.5)"
   ]
  },
  {
   "cell_type": "markdown",
   "metadata": {},
   "source": [
    "After pressing the play button, you should see the head frame moving along the white path, with the eye-in-head pose drawn as a yellow arrow:\n",
    "\n",
    "<img src=\"_static/img/rviz_2.png\" style=\"width: 800px;\"/>"
   ]
  },
  {
   "cell_type": "markdown",
   "metadata": {},
   "source": [
    "Finally, if you have started the ROS master from Python, you should shut it down at the end:"
   ]
  },
  {
   "cell_type": "code",
   "execution_count": 25,
   "metadata": {
    "execution": {
     "iopub.execute_input": "2022-02-12T08:10:24.419526Z",
     "iopub.status.busy": "2022-02-12T08:10:24.419157Z",
     "iopub.status.idle": "2022-02-12T08:10:24.923478Z",
     "shell.execute_reply": "2022-02-12T08:10:24.922355Z"
    }
   },
   "outputs": [
    {
     "name": "stdout",
     "output_type": "stream",
     "text": [
      "[rosout-1] killing on exit\n"
     ]
    },
    {
     "name": "stdout",
     "output_type": "stream",
     "text": [
      "[master] killing on exit\n"
     ]
    }
   ],
   "source": [
    "master.shutdown()"
   ]
  }
 ],
 "metadata": {
  "kernelspec": {
   "display_name": "Python [conda env:rbm]",
   "language": "python",
   "name": "conda-env-rbm-py"
  },
  "language_info": {
   "codemirror_mode": {
    "name": "ipython",
    "version": 3
   },
   "file_extension": ".py",
   "mimetype": "text/x-python",
   "name": "python",
   "nbconvert_exporter": "python",
   "pygments_lexer": "ipython3",
   "version": "3.8.12"
  },
  "widgets": {
   "application/vnd.jupyter.widget-state+json": {
    "state": {
     "15228c062f9a4618b752658179bff767": {
      "model_module": "@jupyter-widgets/base",
      "model_module_version": "1.2.0",
      "model_name": "LayoutModel",
      "state": {
       "_model_module": "@jupyter-widgets/base",
       "_model_module_version": "1.2.0",
       "_model_name": "LayoutModel",
       "_view_count": null,
       "_view_module": "@jupyter-widgets/base",
       "_view_module_version": "1.2.0",
       "_view_name": "LayoutView",
       "align_content": null,
       "align_items": null,
       "align_self": null,
       "border": null,
       "bottom": null,
       "display": null,
       "flex": null,
       "flex_flow": null,
       "grid_area": null,
       "grid_auto_columns": null,
       "grid_auto_flow": null,
       "grid_auto_rows": null,
       "grid_column": null,
       "grid_gap": null,
       "grid_row": null,
       "grid_template_areas": null,
       "grid_template_columns": null,
       "grid_template_rows": null,
       "height": null,
       "justify_content": null,
       "justify_items": null,
       "left": null,
       "margin": null,
       "max_height": null,
       "max_width": null,
       "min_height": null,
       "min_width": null,
       "object_fit": null,
       "object_position": null,
       "order": null,
       "overflow": null,
       "overflow_x": null,
       "overflow_y": null,
       "padding": null,
       "right": null,
       "top": null,
       "visibility": null,
       "width": null
      }
     },
     "162cf4bc1bd54c8aac7e03a8b0994414": {
      "model_module": "@jupyter-widgets/output",
      "model_module_version": "1.0.0",
      "model_name": "OutputModel",
      "state": {
       "_dom_classes": [],
       "_model_module": "@jupyter-widgets/output",
       "_model_module_version": "1.0.0",
       "_model_name": "OutputModel",
       "_view_count": null,
       "_view_module": "@jupyter-widgets/output",
       "_view_module_version": "1.0.0",
       "_view_name": "OutputView",
       "layout": "IPY_MODEL_15228c062f9a4618b752658179bff767",
       "msg_id": "",
       "outputs": []
      }
     },
     "1d2f29958e734ee499576a5b1d28cfdb": {
      "model_module": "@jupyter-widgets/base",
      "model_module_version": "1.2.0",
      "model_name": "LayoutModel",
      "state": {
       "_model_module": "@jupyter-widgets/base",
       "_model_module_version": "1.2.0",
       "_model_name": "LayoutModel",
       "_view_count": null,
       "_view_module": "@jupyter-widgets/base",
       "_view_module_version": "1.2.0",
       "_view_name": "LayoutView",
       "align_content": null,
       "align_items": null,
       "align_self": null,
       "border": null,
       "bottom": null,
       "display": null,
       "flex": null,
       "flex_flow": null,
       "grid_area": null,
       "grid_auto_columns": null,
       "grid_auto_flow": null,
       "grid_auto_rows": null,
       "grid_column": null,
       "grid_gap": null,
       "grid_row": null,
       "grid_template_areas": null,
       "grid_template_columns": null,
       "grid_template_rows": null,
       "height": null,
       "justify_content": null,
       "justify_items": null,
       "left": null,
       "margin": null,
       "max_height": null,
       "max_width": null,
       "min_height": null,
       "min_width": null,
       "object_fit": null,
       "object_position": null,
       "order": null,
       "overflow": null,
       "overflow_x": null,
       "overflow_y": null,
       "padding": null,
       "right": null,
       "top": null,
       "visibility": null,
       "width": null
      }
     },
     "1fc431b77abb490c9eb191c83c99940a": {
      "model_module": "@jupyter-widgets/controls",
      "model_module_version": "1.5.0",
      "model_name": "ButtonModel",
      "state": {
       "_dom_classes": [],
       "_model_module": "@jupyter-widgets/controls",
       "_model_module_version": "1.5.0",
       "_model_name": "ButtonModel",
       "_view_count": null,
       "_view_module": "@jupyter-widgets/controls",
       "_view_module_version": "1.5.0",
       "_view_name": "ButtonView",
       "button_style": "",
       "description": "►►",
       "disabled": false,
       "icon": "",
       "layout": "IPY_MODEL_d4050401cefe4e31a1b2d0659ca7c2ec",
       "style": "IPY_MODEL_305909cf91764862aece73a28d8627e5",
       "tooltip": ""
      }
     },
     "2ef6ffcb394941d085877b88c2331c7d": {
      "model_module": "@jupyter-widgets/controls",
      "model_module_version": "1.5.0",
      "model_name": "ButtonStyleModel",
      "state": {
       "_model_module": "@jupyter-widgets/controls",
       "_model_module_version": "1.5.0",
       "_model_name": "ButtonStyleModel",
       "_view_count": null,
       "_view_module": "@jupyter-widgets/base",
       "_view_module_version": "1.2.0",
       "_view_name": "StyleView",
       "button_color": null,
       "font_weight": ""
      }
     },
     "305909cf91764862aece73a28d8627e5": {
      "model_module": "@jupyter-widgets/controls",
      "model_module_version": "1.5.0",
      "model_name": "ButtonStyleModel",
      "state": {
       "_model_module": "@jupyter-widgets/controls",
       "_model_module_version": "1.5.0",
       "_model_name": "ButtonStyleModel",
       "_view_count": null,
       "_view_module": "@jupyter-widgets/base",
       "_view_module_version": "1.2.0",
       "_view_name": "StyleView",
       "button_color": null,
       "font_weight": ""
      }
     },
     "4886046d92c94c208ae4c864a33814ef": {
      "model_module": "@jupyter-widgets/controls",
      "model_module_version": "1.5.0",
      "model_name": "DescriptionStyleModel",
      "state": {
       "_model_module": "@jupyter-widgets/controls",
       "_model_module_version": "1.5.0",
       "_model_name": "DescriptionStyleModel",
       "_view_count": null,
       "_view_module": "@jupyter-widgets/base",
       "_view_module_version": "1.2.0",
       "_view_name": "StyleView",
       "description_width": ""
      }
     },
     "4d38e5a3bb6d49a9b02b80a5cc2e875b": {
      "model_module": "@jupyter-widgets/base",
      "model_module_version": "1.2.0",
      "model_name": "LayoutModel",
      "state": {
       "_model_module": "@jupyter-widgets/base",
       "_model_module_version": "1.2.0",
       "_model_name": "LayoutModel",
       "_view_count": null,
       "_view_module": "@jupyter-widgets/base",
       "_view_module_version": "1.2.0",
       "_view_name": "LayoutView",
       "align_content": null,
       "align_items": null,
       "align_self": null,
       "border": null,
       "bottom": null,
       "display": null,
       "flex": null,
       "flex_flow": null,
       "grid_area": null,
       "grid_auto_columns": null,
       "grid_auto_flow": null,
       "grid_auto_rows": null,
       "grid_column": null,
       "grid_gap": null,
       "grid_row": null,
       "grid_template_areas": null,
       "grid_template_columns": null,
       "grid_template_rows": null,
       "height": null,
       "justify_content": null,
       "justify_items": null,
       "left": null,
       "margin": null,
       "max_height": null,
       "max_width": null,
       "min_height": null,
       "min_width": null,
       "object_fit": null,
       "object_position": null,
       "order": null,
       "overflow": null,
       "overflow_x": null,
       "overflow_y": null,
       "padding": null,
       "right": null,
       "top": null,
       "visibility": null,
       "width": "50px"
      }
     },
     "561f4e9259954caa9628e56ccddd040d": {
      "model_module": "@jupyter-widgets/base",
      "model_module_version": "1.2.0",
      "model_name": "LayoutModel",
      "state": {
       "_model_module": "@jupyter-widgets/base",
       "_model_module_version": "1.2.0",
       "_model_name": "LayoutModel",
       "_view_count": null,
       "_view_module": "@jupyter-widgets/base",
       "_view_module_version": "1.2.0",
       "_view_name": "LayoutView",
       "align_content": null,
       "align_items": null,
       "align_self": null,
       "border": null,
       "bottom": null,
       "display": null,
       "flex": null,
       "flex_flow": null,
       "grid_area": null,
       "grid_auto_columns": null,
       "grid_auto_flow": null,
       "grid_auto_rows": null,
       "grid_column": null,
       "grid_gap": null,
       "grid_row": null,
       "grid_template_areas": null,
       "grid_template_columns": null,
       "grid_template_rows": null,
       "height": null,
       "justify_content": null,
       "justify_items": null,
       "left": null,
       "margin": null,
       "max_height": null,
       "max_width": null,
       "min_height": null,
       "min_width": null,
       "object_fit": null,
       "object_position": null,
       "order": null,
       "overflow": null,
       "overflow_x": null,
       "overflow_y": null,
       "padding": null,
       "right": null,
       "top": null,
       "visibility": null,
       "width": null
      }
     },
     "8299bee15b954dbbb0edd7c87dbf73aa": {
      "model_module": "@jupyter-widgets/base",
      "model_module_version": "1.2.0",
      "model_name": "LayoutModel",
      "state": {
       "_model_module": "@jupyter-widgets/base",
       "_model_module_version": "1.2.0",
       "_model_name": "LayoutModel",
       "_view_count": null,
       "_view_module": "@jupyter-widgets/base",
       "_view_module_version": "1.2.0",
       "_view_name": "LayoutView",
       "align_content": null,
       "align_items": null,
       "align_self": null,
       "border": null,
       "bottom": null,
       "display": null,
       "flex": null,
       "flex_flow": null,
       "grid_area": null,
       "grid_auto_columns": null,
       "grid_auto_flow": null,
       "grid_auto_rows": null,
       "grid_column": null,
       "grid_gap": null,
       "grid_row": null,
       "grid_template_areas": null,
       "grid_template_columns": null,
       "grid_template_rows": null,
       "height": null,
       "justify_content": null,
       "justify_items": null,
       "left": null,
       "margin": null,
       "max_height": null,
       "max_width": null,
       "min_height": null,
       "min_width": null,
       "object_fit": null,
       "object_position": null,
       "order": null,
       "overflow": null,
       "overflow_x": null,
       "overflow_y": null,
       "padding": null,
       "right": null,
       "top": null,
       "visibility": null,
       "width": null
      }
     },
     "9918a6312065403aa76c4bf67903f741": {
      "model_module": "@jupyter-widgets/controls",
      "model_module_version": "1.5.0",
      "model_name": "PlayModel",
      "state": {
       "_dom_classes": [],
       "_model_module": "@jupyter-widgets/controls",
       "_model_module_version": "1.5.0",
       "_model_name": "PlayModel",
       "_playing": false,
       "_repeat": false,
       "_view_count": null,
       "_view_module": "@jupyter-widgets/controls",
       "_view_module_version": "1.5.0",
       "_view_name": "PlayView",
       "description": "Press play",
       "description_tooltip": null,
       "disabled": false,
       "interval": 19,
       "layout": "IPY_MODEL_1d2f29958e734ee499576a5b1d28cfdb",
       "max": 66628,
       "min": 0,
       "show_repeat": true,
       "step": 2,
       "style": "IPY_MODEL_4886046d92c94c208ae4c864a33814ef",
       "value": 0
      }
     },
     "a545a20d432c44f8aa03f2fa292f76bd": {
      "model_module": "@jupyter-widgets/controls",
      "model_module_version": "1.5.0",
      "model_name": "LinkModel",
      "state": {
       "_model_module": "@jupyter-widgets/controls",
       "_model_module_version": "1.5.0",
       "_model_name": "LinkModel",
       "_view_count": null,
       "_view_module": "@jupyter-widgets/controls",
       "_view_module_version": "1.5.0",
       "_view_name": null,
       "source": [
        "IPY_MODEL_9918a6312065403aa76c4bf67903f741",
        "value"
       ],
       "target": [
        "IPY_MODEL_e2a6d7f040ed41e49af48d4e3ebca46b",
        "value"
       ]
      }
     },
     "ca657e235e9e41909e0430424e3a8a5b": {
      "model_module": "@jupyter-widgets/controls",
      "model_module_version": "1.5.0",
      "model_name": "SliderStyleModel",
      "state": {
       "_model_module": "@jupyter-widgets/controls",
       "_model_module_version": "1.5.0",
       "_model_name": "SliderStyleModel",
       "_view_count": null,
       "_view_module": "@jupyter-widgets/base",
       "_view_module_version": "1.2.0",
       "_view_name": "StyleView",
       "description_width": "",
       "handle_color": null
      }
     },
     "d4050401cefe4e31a1b2d0659ca7c2ec": {
      "model_module": "@jupyter-widgets/base",
      "model_module_version": "1.2.0",
      "model_name": "LayoutModel",
      "state": {
       "_model_module": "@jupyter-widgets/base",
       "_model_module_version": "1.2.0",
       "_model_name": "LayoutModel",
       "_view_count": null,
       "_view_module": "@jupyter-widgets/base",
       "_view_module_version": "1.2.0",
       "_view_name": "LayoutView",
       "align_content": null,
       "align_items": null,
       "align_self": null,
       "border": null,
       "bottom": null,
       "display": null,
       "flex": null,
       "flex_flow": null,
       "grid_area": null,
       "grid_auto_columns": null,
       "grid_auto_flow": null,
       "grid_auto_rows": null,
       "grid_column": null,
       "grid_gap": null,
       "grid_row": null,
       "grid_template_areas": null,
       "grid_template_columns": null,
       "grid_template_rows": null,
       "height": null,
       "justify_content": null,
       "justify_items": null,
       "left": null,
       "margin": null,
       "max_height": null,
       "max_width": null,
       "min_height": null,
       "min_width": null,
       "object_fit": null,
       "object_position": null,
       "order": null,
       "overflow": null,
       "overflow_x": null,
       "overflow_y": null,
       "padding": null,
       "right": null,
       "top": null,
       "visibility": null,
       "width": "50px"
      }
     },
     "dfcab8ffeecc49cbb483cfb0245d52e4": {
      "model_module": "@jupyter-widgets/controls",
      "model_module_version": "1.5.0",
      "model_name": "HBoxModel",
      "state": {
       "_dom_classes": [],
       "_model_module": "@jupyter-widgets/controls",
       "_model_module_version": "1.5.0",
       "_model_name": "HBoxModel",
       "_view_count": null,
       "_view_module": "@jupyter-widgets/controls",
       "_view_module_version": "1.5.0",
       "_view_name": "HBoxView",
       "box_style": "",
       "children": [
        "IPY_MODEL_e2a6d7f040ed41e49af48d4e3ebca46b",
        "IPY_MODEL_f06fe6c4e3c5403395c8753b4a8bc320",
        "IPY_MODEL_9918a6312065403aa76c4bf67903f741",
        "IPY_MODEL_1fc431b77abb490c9eb191c83c99940a"
       ],
       "layout": "IPY_MODEL_561f4e9259954caa9628e56ccddd040d"
      }
     },
     "e2a6d7f040ed41e49af48d4e3ebca46b": {
      "model_module": "@jupyter-widgets/controls",
      "model_module_version": "1.5.0",
      "model_name": "IntSliderModel",
      "state": {
       "_dom_classes": [],
       "_model_module": "@jupyter-widgets/controls",
       "_model_module_version": "1.5.0",
       "_model_name": "IntSliderModel",
       "_view_count": null,
       "_view_module": "@jupyter-widgets/controls",
       "_view_module_version": "1.5.0",
       "_view_name": "IntSliderView",
       "continuous_update": true,
       "description": "Index",
       "description_tooltip": null,
       "disabled": false,
       "layout": "IPY_MODEL_8299bee15b954dbbb0edd7c87dbf73aa",
       "max": 66628,
       "min": 0,
       "orientation": "horizontal",
       "readout": true,
       "readout_format": "d",
       "step": 1,
       "style": "IPY_MODEL_ca657e235e9e41909e0430424e3a8a5b",
       "value": 0
      }
     },
     "f06fe6c4e3c5403395c8753b4a8bc320": {
      "model_module": "@jupyter-widgets/controls",
      "model_module_version": "1.5.0",
      "model_name": "ButtonModel",
      "state": {
       "_dom_classes": [],
       "_model_module": "@jupyter-widgets/controls",
       "_model_module_version": "1.5.0",
       "_model_name": "ButtonModel",
       "_view_count": null,
       "_view_module": "@jupyter-widgets/controls",
       "_view_module_version": "1.5.0",
       "_view_name": "ButtonView",
       "button_style": "",
       "description": "◄◄",
       "disabled": false,
       "icon": "",
       "layout": "IPY_MODEL_4d38e5a3bb6d49a9b02b80a5cc2e875b",
       "style": "IPY_MODEL_2ef6ffcb394941d085877b88c2331c7d",
       "tooltip": ""
      }
     }
    },
    "version_major": 2,
    "version_minor": 0
   }
  }
 },
 "nbformat": 4,
 "nbformat_minor": 4
}
