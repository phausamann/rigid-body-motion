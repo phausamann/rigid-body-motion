{
 "cells": [
  {
   "cell_type": "markdown",
   "metadata": {},
   "source": [
    "# ROS integration\n",
    "\n",
    "rigid_body_motion supports certain ROS functionality, provided the Python environment has been set up with the required ROS packages. This guide assumes that you are at least somewhat familiar with ROS concepts such as nodes, publishers/subscribers and messages. If not, the [ROS tutorials](http://wiki.ros.org/ROS/Tutorials) are a good place to start.\n",
    "\n",
    "You also need to set up a couple of dependencies which can be done very conveniently if you are using an Anaconda Python distribution. See [the ROS dependencies installation guide](installation.rst#ros-integration) for further information."
   ]
  },
  {
   "cell_type": "markdown",
   "metadata": {},
   "source": [
    "<div class=\"alert alert-info\">\n",
    "Note\n",
    "    \n",
    "The following examples require the `pooch`, `xarray`, `netcdf4` and `ipywidgets` libraries.\n",
    "</div>"
   ]
  },
  {
   "cell_type": "code",
   "execution_count": 1,
   "metadata": {
    "execution": {
     "iopub.execute_input": "2022-02-26T08:11:42.829099Z",
     "iopub.status.busy": "2022-02-26T08:11:42.828892Z",
     "iopub.status.idle": "2022-02-26T08:11:44.154925Z",
     "shell.execute_reply": "2022-02-26T08:11:44.154405Z"
    }
   },
   "outputs": [],
   "source": [
    "import numpy as np\n",
    "import pandas as pd\n",
    "import rigid_body_motion as rbm"
   ]
  },
  {
   "cell_type": "markdown",
   "metadata": {},
   "source": [
    "## Loading data from rosbag files\n",
    "\n",
    "Data can be loaded from rosbag files into numpy arrays. So far, `geometry_msgs/TransformStamped` and `nav_msgs/Odometry` messages are supported. This is done through the [RosbagReader](_generated/rigid_body_motion.ros.RosbagReader.rst) class:"
   ]
  },
  {
   "cell_type": "code",
   "execution_count": 2,
   "metadata": {
    "execution": {
     "iopub.execute_input": "2022-02-26T08:11:44.158520Z",
     "iopub.status.busy": "2022-02-26T08:11:44.158208Z",
     "iopub.status.idle": "2022-02-26T08:11:44.980266Z",
     "shell.execute_reply": "2022-02-26T08:11:44.979719Z"
    }
   },
   "outputs": [
    {
     "name": "stderr",
     "output_type": "stream",
     "text": [
      "Downloading data from 'https://github.com/phausamann/rbm-data/raw/main/example.bag' to file '/home/runner/.cache/pooch/447a93042051dbc5689c8ed153185a15-example.bag'.\n"
     ]
    }
   ],
   "source": [
    "reader = rbm.ros.RosbagReader(rbm.example_data[\"rosbag\"])"
   ]
  },
  {
   "cell_type": "markdown",
   "metadata": {},
   "source": [
    "The reader can be used as a context manager to facilitate opening and closing of the rosbag. The `get_topics_and_types` method returns a dict with topic names and corresponding message types:"
   ]
  },
  {
   "cell_type": "code",
   "execution_count": 3,
   "metadata": {
    "execution": {
     "iopub.execute_input": "2022-02-26T08:11:44.983498Z",
     "iopub.status.busy": "2022-02-26T08:11:44.983215Z",
     "iopub.status.idle": "2022-02-26T08:11:47.861344Z",
     "shell.execute_reply": "2022-02-26T08:11:47.860829Z"
    }
   },
   "outputs": [
    {
     "data": {
      "text/plain": [
       "{'/pupil/left_eye/transform': 'geometry_msgs/TransformStamped',\n",
       " '/pupil/right_eye/transform': 'geometry_msgs/TransformStamped',\n",
       " '/t265/transform': 'geometry_msgs/TransformStamped'}"
      ]
     },
     "execution_count": 3,
     "metadata": {},
     "output_type": "execute_result"
    }
   ],
   "source": [
    "with reader:\n",
    "    info = reader.get_topics_and_types()\n",
    "info"
   ]
  },
  {
   "cell_type": "markdown",
   "metadata": {},
   "source": [
    "<div class=\"alert alert-info\">\n",
    "Note\n",
    "    \n",
    "If you get an `ModuleNotFoundError: No module named 'rosbag'` at this point, there is an issue with the ROS dependencies. See [the ROS dependencies troubleshooting guide](installation.rst#troubleshooting) to fix this.\n",
    "</div>"
   ]
  },
  {
   "cell_type": "markdown",
   "metadata": {},
   "source": [
    "The data included in the example rosbag is from a [head/eye tracking study](https://dl.acm.org/doi/pdf/10.1145/3379156.3391365) and contains head-in-world pose estimated by the Intel RealSense T265 as well as eye-in-head pose for both eyes estimated by the Pupil Core eye tracker. "
   ]
  },
  {
   "cell_type": "markdown",
   "metadata": {},
   "source": [
    "The `load_messages` method returns a dict with the data from a specified topic:"
   ]
  },
  {
   "cell_type": "code",
   "execution_count": 4,
   "metadata": {
    "execution": {
     "iopub.execute_input": "2022-02-26T08:11:47.864725Z",
     "iopub.status.busy": "2022-02-26T08:11:47.864153Z",
     "iopub.status.idle": "2022-02-26T08:11:51.320555Z",
     "shell.execute_reply": "2022-02-26T08:11:51.320057Z"
    }
   },
   "outputs": [
    {
     "data": {
      "text/plain": [
       "{'timestamps': array([1.58060323e+09, 1.58060323e+09, 1.58060323e+09, ...,\n",
       "        1.58060357e+09, 1.58060357e+09, 1.58060357e+09]),\n",
       " 'position': array([[15.9316,  0.8211, 10.5429],\n",
       "        [15.9354,  0.8208, 10.5382],\n",
       "        [15.9393,  0.8204, 10.5335],\n",
       "        ...,\n",
       "        [29.8883,  2.8952,  7.6317],\n",
       "        [29.8888,  2.8943,  7.6249],\n",
       "        [29.8892,  2.8935,  7.6182]]),\n",
       " 'orientation': array([[-0.9687,  0.0917,  0.2306,  0.0039],\n",
       "        [-0.969 ,  0.0915,  0.2295,  0.005 ],\n",
       "        [-0.9693,  0.0912,  0.2285,  0.0061],\n",
       "        ...,\n",
       "        [-0.9915,  0.0915,  0.0929, -0.0022],\n",
       "        [-0.9914,  0.0922,  0.0927, -0.0017],\n",
       "        [-0.9913,  0.0932,  0.0925, -0.001 ]])}"
      ]
     },
     "execution_count": 4,
     "metadata": {},
     "output_type": "execute_result"
    }
   ],
   "source": [
    "with reader:\n",
    "    head = reader.load_messages(\"/t265/transform\")\n",
    "head"
   ]
  },
  {
   "cell_type": "markdown",
   "metadata": {},
   "source": [
    "Now we can construct a reference frame tree with this data:"
   ]
  },
  {
   "cell_type": "code",
   "execution_count": 5,
   "metadata": {
    "execution": {
     "iopub.execute_input": "2022-02-26T08:11:51.323201Z",
     "iopub.status.busy": "2022-02-26T08:11:51.322924Z",
     "iopub.status.idle": "2022-02-26T08:11:51.326876Z",
     "shell.execute_reply": "2022-02-26T08:11:51.326420Z"
    }
   },
   "outputs": [],
   "source": [
    "rbm.register_frame(\"world\")"
   ]
  },
  {
   "cell_type": "markdown",
   "metadata": {},
   "source": [
    "The T265 uses the VR coordinate convention (x right, y up, z towards the back of the device) which differs from the default ROS convention (x forward, y left, z up):"
   ]
  },
  {
   "cell_type": "code",
   "execution_count": 6,
   "metadata": {
    "execution": {
     "iopub.execute_input": "2022-02-26T08:11:51.329257Z",
     "iopub.status.busy": "2022-02-26T08:11:51.329101Z",
     "iopub.status.idle": "2022-02-26T08:11:51.333176Z",
     "shell.execute_reply": "2022-02-26T08:11:51.332808Z"
    }
   },
   "outputs": [],
   "source": [
    "R_T265_ROS = np.array([[0.0, 0.0, -1.0], [-1.0, 0.0, 0.0], [0.0, 1.0, 0.0]])\n",
    "\n",
    "rbm.ReferenceFrame.from_rotation_matrix(\n",
    "    R_T265_ROS, parent=\"world\", name=\"t265/world\"\n",
    ").register()"
   ]
  },
  {
   "cell_type": "markdown",
   "metadata": {},
   "source": [
    "The recorded data describes the transformation from the T265 world frame to the tracker frame:"
   ]
  },
  {
   "cell_type": "code",
   "execution_count": 7,
   "metadata": {
    "execution": {
     "iopub.execute_input": "2022-02-26T08:11:51.335424Z",
     "iopub.status.busy": "2022-02-26T08:11:51.335100Z",
     "iopub.status.idle": "2022-02-26T08:11:51.340771Z",
     "shell.execute_reply": "2022-02-26T08:11:51.340387Z"
    }
   },
   "outputs": [],
   "source": [
    "rbm.register_frame(\n",
    "    \"t265/tracker\",\n",
    "    parent=\"t265/world\",\n",
    "    translation=head[\"position\"],\n",
    "    rotation=head[\"orientation\"],\n",
    "    timestamps=pd.to_datetime(head[\"timestamps\"], unit=\"s\"),\n",
    ")"
   ]
  },
  {
   "cell_type": "markdown",
   "metadata": {},
   "source": [
    "For visualization, we define an additional `\"head\"` frame that represents the tracker pose with the ROS coordinate convention:"
   ]
  },
  {
   "cell_type": "code",
   "execution_count": 8,
   "metadata": {
    "execution": {
     "iopub.execute_input": "2022-02-26T08:11:51.343026Z",
     "iopub.status.busy": "2022-02-26T08:11:51.342701Z",
     "iopub.status.idle": "2022-02-26T08:11:51.345719Z",
     "shell.execute_reply": "2022-02-26T08:11:51.345365Z"
    }
   },
   "outputs": [],
   "source": [
    "rbm.ReferenceFrame.from_rotation_matrix(\n",
    "    R_T265_ROS, parent=\"t265/tracker\", name=\"head\", inverse=True,\n",
    ").register()"
   ]
  },
  {
   "cell_type": "code",
   "execution_count": 9,
   "metadata": {
    "execution": {
     "iopub.execute_input": "2022-02-26T08:11:51.347989Z",
     "iopub.status.busy": "2022-02-26T08:11:51.347517Z",
     "iopub.status.idle": "2022-02-26T08:11:51.350785Z",
     "shell.execute_reply": "2022-02-26T08:11:51.350421Z"
    }
   },
   "outputs": [
    {
     "name": "stdout",
     "output_type": "stream",
     "text": [
      "world\n",
      "└── t265/world\n",
      "    └── t265/tracker\n",
      "        └── head\n"
     ]
    }
   ],
   "source": [
    "rbm.render_tree(\"world\")"
   ]
  },
  {
   "cell_type": "markdown",
   "metadata": {},
   "source": [
    "## Visualization with RViz\n",
    "\n",
    "This section will show you how to broadcast reference frame transforms on the `/tf` topic as well as publish other messages that are useful for visualization in RViz. If you are not familiar with RViz and/or tf, check out the [RViz user guide](http://wiki.ros.org/rviz/UserGuide) and the [tf package documentation](http://wiki.ros.org/tf).  You can download an `.rviz` file where all topics created in the following are already set up [here](_static/example.rviz)."
   ]
  },
  {
   "cell_type": "markdown",
   "metadata": {},
   "source": [
    "We start by creating a node for this notebook with the [init_node()](_generated/rigid_body_motion.ros.init_node.rst) method. This method will also automatically start a `roscore` when `start_master=True` and another ROS master isn't already running:"
   ]
  },
  {
   "cell_type": "code",
   "execution_count": 10,
   "metadata": {
    "execution": {
     "iopub.execute_input": "2022-02-26T08:11:51.353148Z",
     "iopub.status.busy": "2022-02-26T08:11:51.352660Z",
     "iopub.status.idle": "2022-02-26T08:11:52.106151Z",
     "shell.execute_reply": "2022-02-26T08:11:52.105558Z"
    }
   },
   "outputs": [
    {
     "name": "stdout",
     "output_type": "stream",
     "text": [
      "\u001b[1mstarted roslaunch server http://fv-az243-934:45067/\u001b[0m\n",
      "ros_comm version 1.15.9\n",
      "\n",
      "\n",
      "SUMMARY\n",
      "========\n",
      "\n",
      "PARAMETERS\n",
      " * /rosdistro: noetic\n",
      " * /rosversion: 1.15.9\n",
      "\n",
      "NODES\n",
      "\n",
      "auto-starting new master\n",
      "\u001b[1mprocess[master]: started with pid [5071]\u001b[0m\n"
     ]
    },
    {
     "name": "stdout",
     "output_type": "stream",
     "text": [
      "\u001b[1mROS_MASTER_URI=http://localhost:11311\u001b[0m\n",
      "\u001b[1msetting /run_id to master\u001b[0m\n",
      "\u001b[1mprocess[rosout-1]: started with pid [5081]\u001b[0m\n",
      "started core service [/rosout]\n"
     ]
    }
   ],
   "source": [
    "master = rbm.ros.init_node(\"rbm_vis\", start_master=True)"
   ]
  },
  {
   "cell_type": "markdown",
   "metadata": {},
   "source": [
    "Transforms between reference frames can easily be broadcast on the `/tf` topic with the [ReferenceFrameTransformBroadcaster](_generated/rigid_body_motion.ros.ReferenceFrameTransformBroadcaster.rst) class:"
   ]
  },
  {
   "cell_type": "code",
   "execution_count": 11,
   "metadata": {
    "execution": {
     "iopub.execute_input": "2022-02-26T08:11:52.109660Z",
     "iopub.status.busy": "2022-02-26T08:11:52.109267Z",
     "iopub.status.idle": "2022-02-26T08:11:52.233757Z",
     "shell.execute_reply": "2022-02-26T08:11:52.233219Z"
    }
   },
   "outputs": [],
   "source": [
    "tf_world_head = rbm.ros.ReferenceFrameTransformBroadcaster(\"head\", base=\"world\")"
   ]
  },
  {
   "cell_type": "markdown",
   "metadata": {},
   "source": [
    "When calling [publish](_generated/rigid_body_motion.ros.ReferenceFrameTransformBroadcaster.rst#rigid_body_motion.ros.ReferenceFrameTransformBroadcaster.publish) the transform between world and head frame will be broadcast on the `/tf` topic. Since the head frame is a moving frame this will broadcast the first valid transform between the two frames by default:"
   ]
  },
  {
   "cell_type": "code",
   "execution_count": 12,
   "metadata": {
    "execution": {
     "iopub.execute_input": "2022-02-26T08:11:52.236708Z",
     "iopub.status.busy": "2022-02-26T08:11:52.236386Z",
     "iopub.status.idle": "2022-02-26T08:11:52.240371Z",
     "shell.execute_reply": "2022-02-26T08:11:52.239930Z"
    }
   },
   "outputs": [],
   "source": [
    "tf_world_head.publish()"
   ]
  },
  {
   "cell_type": "markdown",
   "metadata": {},
   "source": [
    "RViz should now show both frames:\n",
    "\n",
    "<img src=\"_static/img/rviz_0.png\" style=\"width: 800px;\"/>"
   ]
  },
  {
   "cell_type": "markdown",
   "metadata": {},
   "source": [
    "The broadcaster stores all valid transforms between the two frames in the `translation`, `rotation` and `timestamps` attributes:"
   ]
  },
  {
   "cell_type": "code",
   "execution_count": 13,
   "metadata": {
    "execution": {
     "iopub.execute_input": "2022-02-26T08:11:52.243095Z",
     "iopub.status.busy": "2022-02-26T08:11:52.242701Z",
     "iopub.status.idle": "2022-02-26T08:11:52.246678Z",
     "shell.execute_reply": "2022-02-26T08:11:52.246196Z"
    }
   },
   "outputs": [
    {
     "data": {
      "text/plain": [
       "(66629, 3)"
      ]
     },
     "execution_count": 13,
     "metadata": {},
     "output_type": "execute_result"
    }
   ],
   "source": [
    "tf_world_head.translation.shape"
   ]
  },
  {
   "cell_type": "markdown",
   "metadata": {},
   "source": [
    "You can broadcast the transform between two frames at different points in time by specifying an index into these arrays as an argument to [publish](_generated/rigid_body_motion.ros.ReferenceFrameTransformBroadcaster.rst#rigid_body_motion.ros.ReferenceFrameTransformBroadcaster.publish):"
   ]
  },
  {
   "cell_type": "code",
   "execution_count": 14,
   "metadata": {
    "execution": {
     "iopub.execute_input": "2022-02-26T08:11:52.249726Z",
     "iopub.status.busy": "2022-02-26T08:11:52.249422Z",
     "iopub.status.idle": "2022-02-26T08:11:52.252104Z",
     "shell.execute_reply": "2022-02-26T08:11:52.251605Z"
    }
   },
   "outputs": [],
   "source": [
    "tf_world_head.publish(1000)"
   ]
  },
  {
   "cell_type": "markdown",
   "metadata": {},
   "source": [
    "<div class=\"alert alert-info\">\n",
    "Note \n",
    "\n",
    "When \"going back in time\", i.e., broadcasting transforms with timestamps older than the latest broadcast timestamp, RViz will not update the tf display and you may get a `TF_OLD_DATA` warning in the console. When this happens, click on the \"Reset\" button in the lower left corner in RViz.\n",
    "</div>"
   ]
  },
  {
   "cell_type": "markdown",
   "metadata": {},
   "source": [
    "The entire transformation between moving frames can be visualized with the [ReferenceFrameMarkerPublisher](_generated/rigid_body_motion.ros.ReferenceFrameMarkerPublisher.rst) which publishes the translation of all valid timestamps as a `visualization_msgs/Marker` message on the `/<frame_name>/path` topic: "
   ]
  },
  {
   "cell_type": "code",
   "execution_count": 15,
   "metadata": {
    "execution": {
     "iopub.execute_input": "2022-02-26T08:11:52.254379Z",
     "iopub.status.busy": "2022-02-26T08:11:52.254131Z",
     "iopub.status.idle": "2022-02-26T08:11:52.361938Z",
     "shell.execute_reply": "2022-02-26T08:11:52.361410Z"
    }
   },
   "outputs": [],
   "source": [
    "marker_publisher = rbm.ros.ReferenceFrameMarkerPublisher(\"head\", base=\"world\")\n",
    "marker_publisher.publish()"
   ]
  },
  {
   "cell_type": "code",
   "execution_count": 16,
   "metadata": {
    "execution": {
     "iopub.execute_input": "2022-02-26T08:11:52.364852Z",
     "iopub.status.busy": "2022-02-26T08:11:52.364536Z",
     "iopub.status.idle": "2022-02-26T08:11:52.369504Z",
     "shell.execute_reply": "2022-02-26T08:11:52.368849Z"
    }
   },
   "outputs": [
    {
     "data": {
      "text/plain": [
       "[['/head/path', 'visualization_msgs/Marker']]"
      ]
     },
     "execution_count": 16,
     "metadata": {},
     "output_type": "execute_result"
    }
   ],
   "source": [
    "import rospy\n",
    "\n",
    "rospy.get_published_topics(\"/head\")"
   ]
  },
  {
   "cell_type": "markdown",
   "metadata": {},
   "source": [
    "RViz should now show the trajectory of the head frame as a white line:\n",
    "\n",
    "<img src=\"_static/img/rviz_1.png\" style=\"width: 800px;\"/>"
   ]
  },
  {
   "cell_type": "markdown",
   "metadata": {},
   "source": [
    "Next, we will load data from the Pupil Core eye tracker to demonstrate how multiple moving frames can be visualized. With the [load_dataset](_generated/rigid_body_motion.ros.RosbagReader.rst#rigid_body_motion.ros.RosbagReader.load_dataset) method, the data is imported as an `xarray.Dataset` and `cache=True` enables local caching in the netCDF4 format for faster loading."
   ]
  },
  {
   "cell_type": "code",
   "execution_count": 17,
   "metadata": {
    "execution": {
     "iopub.execute_input": "2022-02-26T08:11:52.372010Z",
     "iopub.status.busy": "2022-02-26T08:11:52.371756Z",
     "iopub.status.idle": "2022-02-26T08:11:57.337680Z",
     "shell.execute_reply": "2022-02-26T08:11:57.337077Z"
    }
   },
   "outputs": [],
   "source": [
    "with reader:\n",
    "    left_eye = reader.load_dataset(\"/pupil/left_eye/transform\", cache=True)\n",
    "\n",
    "left_eye = left_eye.dropna(\"time\")"
   ]
  },
  {
   "cell_type": "markdown",
   "metadata": {},
   "source": [
    "The transform between the T265 and the Pupil Core scene camera was determined in the study with a camera calibration routine and is provided here as hard-coded parameters:"
   ]
  },
  {
   "cell_type": "code",
   "execution_count": 18,
   "metadata": {
    "execution": {
     "iopub.execute_input": "2022-02-26T08:11:57.341428Z",
     "iopub.status.busy": "2022-02-26T08:11:57.340975Z",
     "iopub.status.idle": "2022-02-26T08:11:57.345594Z",
     "shell.execute_reply": "2022-02-26T08:11:57.345079Z"
    }
   },
   "outputs": [],
   "source": [
    "t_t265_pupil = (24.5e-3, -29e-3, 0.0)\n",
    "r_t265_pupil = (-0.00125, -1.0, 6.3463e-05, 3.977e-06)\n",
    "\n",
    "rbm.register_frame(\n",
    "    \"pupil/scene_cam\",\n",
    "    parent=\"t265/tracker\",\n",
    "    translation=t_t265_pupil,\n",
    "    rotation=r_t265_pupil,\n",
    ")"
   ]
  },
  {
   "cell_type": "markdown",
   "metadata": {},
   "source": [
    "The reference frame of the left eye is constructed from the Dataset:"
   ]
  },
  {
   "cell_type": "code",
   "execution_count": 19,
   "metadata": {
    "execution": {
     "iopub.execute_input": "2022-02-26T08:11:57.347885Z",
     "iopub.status.busy": "2022-02-26T08:11:57.347721Z",
     "iopub.status.idle": "2022-02-26T08:11:57.352040Z",
     "shell.execute_reply": "2022-02-26T08:11:57.351524Z"
    }
   },
   "outputs": [],
   "source": [
    "rbm.ReferenceFrame.from_dataset(\n",
    "    left_eye,\n",
    "    \"position\",\n",
    "    \"orientation\",\n",
    "    \"time\",\n",
    "    parent=\"pupil/scene_cam\",\n",
    "    name=\"pupil/left_eye\",\n",
    ").register()"
   ]
  },
  {
   "cell_type": "markdown",
   "metadata": {},
   "source": [
    "The eye tracker data uses yet another coordinate convention (x right, y down, z forward) which we need to take into account when visualizing the eye frame:"
   ]
  },
  {
   "cell_type": "code",
   "execution_count": 20,
   "metadata": {
    "execution": {
     "iopub.execute_input": "2022-02-26T08:11:57.354348Z",
     "iopub.status.busy": "2022-02-26T08:11:57.354188Z",
     "iopub.status.idle": "2022-02-26T08:11:57.357906Z",
     "shell.execute_reply": "2022-02-26T08:11:57.357513Z"
    }
   },
   "outputs": [],
   "source": [
    "R_PUPIL_ROS = np.array([[0.0, -1.0, 0.0], [0.0, 0.0, -1.0], [1.0, 0.0, 0.0]])\n",
    "\n",
    "rbm.ReferenceFrame.from_rotation_matrix(\n",
    "    R_PUPIL_ROS, parent=\"pupil/left_eye\", name=\"left_eye\"\n",
    ").register(update=True)"
   ]
  },
  {
   "cell_type": "code",
   "execution_count": 21,
   "metadata": {
    "execution": {
     "iopub.execute_input": "2022-02-26T08:11:57.360300Z",
     "iopub.status.busy": "2022-02-26T08:11:57.359797Z",
     "iopub.status.idle": "2022-02-26T08:11:57.363480Z",
     "shell.execute_reply": "2022-02-26T08:11:57.363115Z"
    }
   },
   "outputs": [
    {
     "name": "stdout",
     "output_type": "stream",
     "text": [
      "world\n",
      "└── t265/world\n",
      "    └── t265/tracker\n",
      "        ├── head\n",
      "        └── pupil/scene_cam\n",
      "            └── pupil/left_eye\n",
      "                └── left_eye\n"
     ]
    }
   ],
   "source": [
    "rbm.render_tree(\"world\")"
   ]
  },
  {
   "cell_type": "markdown",
   "metadata": {},
   "source": [
    "Now we create another broadcaster for the transform between head and eye frame. With `publish_pose=True`, the broadcaster also publishes a `geometry_msgs/PoseStamped` message on the `/<frame_name>/pose` topic. This message can be visualized in RViz as an arrow which avoids cluttering for frames that are close together. In order to publish messages in sync with the world/head transform, we specify `subscribe=\"head\"`. This way, the broadcaster checks for new messages on the `/tf` topic where the `child_frame_id` is `\"head\"` and publishes its own transform with the closest timestamp:"
   ]
  },
  {
   "cell_type": "code",
   "execution_count": 22,
   "metadata": {
    "execution": {
     "iopub.execute_input": "2022-02-26T08:11:57.365725Z",
     "iopub.status.busy": "2022-02-26T08:11:57.365401Z",
     "iopub.status.idle": "2022-02-26T08:11:57.510611Z",
     "shell.execute_reply": "2022-02-26T08:11:57.509039Z"
    }
   },
   "outputs": [],
   "source": [
    "tf_head_left_eye = rbm.ros.ReferenceFrameTransformBroadcaster(\n",
    "    \"left_eye\", base=\"head\", publish_pose=True, subscribe=\"head\"\n",
    ")"
   ]
  },
  {
   "cell_type": "markdown",
   "metadata": {},
   "source": [
    "Calling the [spin](_generated/rigid_body_motion.ros.ReferenceFrameTransformBroadcaster.rst#rigid_body_motion.ros.ReferenceFrameTransformBroadcaster.spin) method dispatches the broadcaster to a separate thread where it will keep checking for new world/head transforms:"
   ]
  },
  {
   "cell_type": "code",
   "execution_count": 23,
   "metadata": {
    "execution": {
     "iopub.execute_input": "2022-02-26T08:11:57.516056Z",
     "iopub.status.busy": "2022-02-26T08:11:57.514670Z",
     "iopub.status.idle": "2022-02-26T08:11:57.520467Z",
     "shell.execute_reply": "2022-02-26T08:11:57.519935Z"
    }
   },
   "outputs": [],
   "source": [
    "tf_head_left_eye.spin()"
   ]
  },
  {
   "cell_type": "markdown",
   "metadata": {},
   "source": [
    "Finally, the [play_publisher](_generated/rigid_body_motion.ros.play_publisher.rst) method provides a notebook widget to play back data from a broadcaster. With `step=2` it broadcasts every second transform and with `speed=0.5` the data is played back at half the recorded speed:"
   ]
  },
  {
   "cell_type": "code",
   "execution_count": 24,
   "metadata": {
    "execution": {
     "iopub.execute_input": "2022-02-26T08:11:57.523261Z",
     "iopub.status.busy": "2022-02-26T08:11:57.522935Z",
     "iopub.status.idle": "2022-02-26T08:11:57.600056Z",
     "shell.execute_reply": "2022-02-26T08:11:57.599581Z"
    }
   },
   "outputs": [
    {
     "data": {
      "application/vnd.jupyter.widget-view+json": {
       "model_id": "2fcd6e7a2691436888b53a11002ded93",
       "version_major": 2,
       "version_minor": 0
      },
      "text/plain": [
       "HBox(children=(IntSlider(value=0, description='Index', max=66628), Button(description='◄◄', layout=Layout(widt…"
      ]
     },
     "metadata": {},
     "output_type": "display_data"
    },
    {
     "data": {
      "application/vnd.jupyter.widget-view+json": {
       "model_id": "792d8cdb14f0470a87aeaa44ed1222f4",
       "version_major": 2,
       "version_minor": 0
      },
      "text/plain": [
       "Output()"
      ]
     },
     "metadata": {},
     "output_type": "display_data"
    }
   ],
   "source": [
    "rbm.ros.play_publisher(tf_world_head, step=2, speed=0.5)"
   ]
  },
  {
   "cell_type": "markdown",
   "metadata": {},
   "source": [
    "After pressing the play button, you should see the head frame moving along the white path, with the eye-in-head pose drawn as a yellow arrow:\n",
    "\n",
    "<img src=\"_static/img/rviz_2.png\" style=\"width: 800px;\"/>"
   ]
  },
  {
   "cell_type": "markdown",
   "metadata": {},
   "source": [
    "Finally, if you have started the ROS master from Python, you should shut it down at the end:"
   ]
  },
  {
   "cell_type": "code",
   "execution_count": 25,
   "metadata": {
    "execution": {
     "iopub.execute_input": "2022-02-26T08:11:57.602847Z",
     "iopub.status.busy": "2022-02-26T08:11:57.602479Z",
     "iopub.status.idle": "2022-02-26T08:11:58.104084Z",
     "shell.execute_reply": "2022-02-26T08:11:58.103317Z"
    }
   },
   "outputs": [
    {
     "name": "stdout",
     "output_type": "stream",
     "text": [
      "[rosout-1] killing on exit\n"
     ]
    },
    {
     "name": "stdout",
     "output_type": "stream",
     "text": [
      "[master] killing on exit\n"
     ]
    }
   ],
   "source": [
    "master.shutdown()"
   ]
  }
 ],
 "metadata": {
  "kernelspec": {
   "display_name": "Python [conda env:rbm]",
   "language": "python",
   "name": "conda-env-rbm-py"
  },
  "language_info": {
   "codemirror_mode": {
    "name": "ipython",
    "version": 3
   },
   "file_extension": ".py",
   "mimetype": "text/x-python",
   "name": "python",
   "nbconvert_exporter": "python",
   "pygments_lexer": "ipython3",
   "version": "3.8.12"
  },
  "widgets": {
   "application/vnd.jupyter.widget-state+json": {
    "state": {
     "192bd5ff7bcf487e8259b73432c116af": {
      "model_module": "@jupyter-widgets/base",
      "model_module_version": "1.2.0",
      "model_name": "LayoutModel",
      "state": {
       "_model_module": "@jupyter-widgets/base",
       "_model_module_version": "1.2.0",
       "_model_name": "LayoutModel",
       "_view_count": null,
       "_view_module": "@jupyter-widgets/base",
       "_view_module_version": "1.2.0",
       "_view_name": "LayoutView",
       "align_content": null,
       "align_items": null,
       "align_self": null,
       "border": null,
       "bottom": null,
       "display": null,
       "flex": null,
       "flex_flow": null,
       "grid_area": null,
       "grid_auto_columns": null,
       "grid_auto_flow": null,
       "grid_auto_rows": null,
       "grid_column": null,
       "grid_gap": null,
       "grid_row": null,
       "grid_template_areas": null,
       "grid_template_columns": null,
       "grid_template_rows": null,
       "height": null,
       "justify_content": null,
       "justify_items": null,
       "left": null,
       "margin": null,
       "max_height": null,
       "max_width": null,
       "min_height": null,
       "min_width": null,
       "object_fit": null,
       "object_position": null,
       "order": null,
       "overflow": null,
       "overflow_x": null,
       "overflow_y": null,
       "padding": null,
       "right": null,
       "top": null,
       "visibility": null,
       "width": null
      }
     },
     "2fcd6e7a2691436888b53a11002ded93": {
      "model_module": "@jupyter-widgets/controls",
      "model_module_version": "1.5.0",
      "model_name": "HBoxModel",
      "state": {
       "_dom_classes": [],
       "_model_module": "@jupyter-widgets/controls",
       "_model_module_version": "1.5.0",
       "_model_name": "HBoxModel",
       "_view_count": null,
       "_view_module": "@jupyter-widgets/controls",
       "_view_module_version": "1.5.0",
       "_view_name": "HBoxView",
       "box_style": "",
       "children": [
        "IPY_MODEL_ab62ace087ea4951ba2cd045ada513af",
        "IPY_MODEL_a7cefabee3174622b585a21e86598b87",
        "IPY_MODEL_85ac5ff3c83e4f90878fd634a275b251",
        "IPY_MODEL_e723a8f09c9e49118a3a9eedcc5aa69a"
       ],
       "layout": "IPY_MODEL_a41b22b951a8469181b054a4f06231d3"
      }
     },
     "5e31d77ffee440ef93536f2aa2d9d777": {
      "model_module": "@jupyter-widgets/base",
      "model_module_version": "1.2.0",
      "model_name": "LayoutModel",
      "state": {
       "_model_module": "@jupyter-widgets/base",
       "_model_module_version": "1.2.0",
       "_model_name": "LayoutModel",
       "_view_count": null,
       "_view_module": "@jupyter-widgets/base",
       "_view_module_version": "1.2.0",
       "_view_name": "LayoutView",
       "align_content": null,
       "align_items": null,
       "align_self": null,
       "border": null,
       "bottom": null,
       "display": null,
       "flex": null,
       "flex_flow": null,
       "grid_area": null,
       "grid_auto_columns": null,
       "grid_auto_flow": null,
       "grid_auto_rows": null,
       "grid_column": null,
       "grid_gap": null,
       "grid_row": null,
       "grid_template_areas": null,
       "grid_template_columns": null,
       "grid_template_rows": null,
       "height": null,
       "justify_content": null,
       "justify_items": null,
       "left": null,
       "margin": null,
       "max_height": null,
       "max_width": null,
       "min_height": null,
       "min_width": null,
       "object_fit": null,
       "object_position": null,
       "order": null,
       "overflow": null,
       "overflow_x": null,
       "overflow_y": null,
       "padding": null,
       "right": null,
       "top": null,
       "visibility": null,
       "width": "50px"
      }
     },
     "76d22f465e06473ab305b83dcb804852": {
      "model_module": "@jupyter-widgets/controls",
      "model_module_version": "1.5.0",
      "model_name": "SliderStyleModel",
      "state": {
       "_model_module": "@jupyter-widgets/controls",
       "_model_module_version": "1.5.0",
       "_model_name": "SliderStyleModel",
       "_view_count": null,
       "_view_module": "@jupyter-widgets/base",
       "_view_module_version": "1.2.0",
       "_view_name": "StyleView",
       "description_width": "",
       "handle_color": null
      }
     },
     "792d8cdb14f0470a87aeaa44ed1222f4": {
      "model_module": "@jupyter-widgets/output",
      "model_module_version": "1.0.0",
      "model_name": "OutputModel",
      "state": {
       "_dom_classes": [],
       "_model_module": "@jupyter-widgets/output",
       "_model_module_version": "1.0.0",
       "_model_name": "OutputModel",
       "_view_count": null,
       "_view_module": "@jupyter-widgets/output",
       "_view_module_version": "1.0.0",
       "_view_name": "OutputView",
       "layout": "IPY_MODEL_192bd5ff7bcf487e8259b73432c116af",
       "msg_id": "",
       "outputs": []
      }
     },
     "79830e6fab974eaf8766db0a97c3c4d6": {
      "model_module": "@jupyter-widgets/controls",
      "model_module_version": "1.5.0",
      "model_name": "ButtonStyleModel",
      "state": {
       "_model_module": "@jupyter-widgets/controls",
       "_model_module_version": "1.5.0",
       "_model_name": "ButtonStyleModel",
       "_view_count": null,
       "_view_module": "@jupyter-widgets/base",
       "_view_module_version": "1.2.0",
       "_view_name": "StyleView",
       "button_color": null,
       "font_weight": ""
      }
     },
     "80908902855e473b87c2caf0f9deec16": {
      "model_module": "@jupyter-widgets/controls",
      "model_module_version": "1.5.0",
      "model_name": "DescriptionStyleModel",
      "state": {
       "_model_module": "@jupyter-widgets/controls",
       "_model_module_version": "1.5.0",
       "_model_name": "DescriptionStyleModel",
       "_view_count": null,
       "_view_module": "@jupyter-widgets/base",
       "_view_module_version": "1.2.0",
       "_view_name": "StyleView",
       "description_width": ""
      }
     },
     "85ac5ff3c83e4f90878fd634a275b251": {
      "model_module": "@jupyter-widgets/controls",
      "model_module_version": "1.5.0",
      "model_name": "PlayModel",
      "state": {
       "_dom_classes": [],
       "_model_module": "@jupyter-widgets/controls",
       "_model_module_version": "1.5.0",
       "_model_name": "PlayModel",
       "_playing": false,
       "_repeat": false,
       "_view_count": null,
       "_view_module": "@jupyter-widgets/controls",
       "_view_module_version": "1.5.0",
       "_view_name": "PlayView",
       "description": "Press play",
       "description_tooltip": null,
       "disabled": false,
       "interval": 19,
       "layout": "IPY_MODEL_9047f4e7956540bd83e3f4262a7a608e",
       "max": 66628,
       "min": 0,
       "show_repeat": true,
       "step": 2,
       "style": "IPY_MODEL_80908902855e473b87c2caf0f9deec16",
       "value": 0
      }
     },
     "88dbe97bee8b459e9e782847ad42f7ca": {
      "model_module": "@jupyter-widgets/base",
      "model_module_version": "1.2.0",
      "model_name": "LayoutModel",
      "state": {
       "_model_module": "@jupyter-widgets/base",
       "_model_module_version": "1.2.0",
       "_model_name": "LayoutModel",
       "_view_count": null,
       "_view_module": "@jupyter-widgets/base",
       "_view_module_version": "1.2.0",
       "_view_name": "LayoutView",
       "align_content": null,
       "align_items": null,
       "align_self": null,
       "border": null,
       "bottom": null,
       "display": null,
       "flex": null,
       "flex_flow": null,
       "grid_area": null,
       "grid_auto_columns": null,
       "grid_auto_flow": null,
       "grid_auto_rows": null,
       "grid_column": null,
       "grid_gap": null,
       "grid_row": null,
       "grid_template_areas": null,
       "grid_template_columns": null,
       "grid_template_rows": null,
       "height": null,
       "justify_content": null,
       "justify_items": null,
       "left": null,
       "margin": null,
       "max_height": null,
       "max_width": null,
       "min_height": null,
       "min_width": null,
       "object_fit": null,
       "object_position": null,
       "order": null,
       "overflow": null,
       "overflow_x": null,
       "overflow_y": null,
       "padding": null,
       "right": null,
       "top": null,
       "visibility": null,
       "width": null
      }
     },
     "9047f4e7956540bd83e3f4262a7a608e": {
      "model_module": "@jupyter-widgets/base",
      "model_module_version": "1.2.0",
      "model_name": "LayoutModel",
      "state": {
       "_model_module": "@jupyter-widgets/base",
       "_model_module_version": "1.2.0",
       "_model_name": "LayoutModel",
       "_view_count": null,
       "_view_module": "@jupyter-widgets/base",
       "_view_module_version": "1.2.0",
       "_view_name": "LayoutView",
       "align_content": null,
       "align_items": null,
       "align_self": null,
       "border": null,
       "bottom": null,
       "display": null,
       "flex": null,
       "flex_flow": null,
       "grid_area": null,
       "grid_auto_columns": null,
       "grid_auto_flow": null,
       "grid_auto_rows": null,
       "grid_column": null,
       "grid_gap": null,
       "grid_row": null,
       "grid_template_areas": null,
       "grid_template_columns": null,
       "grid_template_rows": null,
       "height": null,
       "justify_content": null,
       "justify_items": null,
       "left": null,
       "margin": null,
       "max_height": null,
       "max_width": null,
       "min_height": null,
       "min_width": null,
       "object_fit": null,
       "object_position": null,
       "order": null,
       "overflow": null,
       "overflow_x": null,
       "overflow_y": null,
       "padding": null,
       "right": null,
       "top": null,
       "visibility": null,
       "width": null
      }
     },
     "97ae1351a20d4e1b8ee3b50be4bc2c80": {
      "model_module": "@jupyter-widgets/controls",
      "model_module_version": "1.5.0",
      "model_name": "ButtonStyleModel",
      "state": {
       "_model_module": "@jupyter-widgets/controls",
       "_model_module_version": "1.5.0",
       "_model_name": "ButtonStyleModel",
       "_view_count": null,
       "_view_module": "@jupyter-widgets/base",
       "_view_module_version": "1.2.0",
       "_view_name": "StyleView",
       "button_color": null,
       "font_weight": ""
      }
     },
     "99006ad7fe67456eb83d626cb665a9fb": {
      "model_module": "@jupyter-widgets/controls",
      "model_module_version": "1.5.0",
      "model_name": "LinkModel",
      "state": {
       "_model_module": "@jupyter-widgets/controls",
       "_model_module_version": "1.5.0",
       "_model_name": "LinkModel",
       "_view_count": null,
       "_view_module": "@jupyter-widgets/controls",
       "_view_module_version": "1.5.0",
       "_view_name": null,
       "source": [
        "IPY_MODEL_85ac5ff3c83e4f90878fd634a275b251",
        "value"
       ],
       "target": [
        "IPY_MODEL_ab62ace087ea4951ba2cd045ada513af",
        "value"
       ]
      }
     },
     "a41b22b951a8469181b054a4f06231d3": {
      "model_module": "@jupyter-widgets/base",
      "model_module_version": "1.2.0",
      "model_name": "LayoutModel",
      "state": {
       "_model_module": "@jupyter-widgets/base",
       "_model_module_version": "1.2.0",
       "_model_name": "LayoutModel",
       "_view_count": null,
       "_view_module": "@jupyter-widgets/base",
       "_view_module_version": "1.2.0",
       "_view_name": "LayoutView",
       "align_content": null,
       "align_items": null,
       "align_self": null,
       "border": null,
       "bottom": null,
       "display": null,
       "flex": null,
       "flex_flow": null,
       "grid_area": null,
       "grid_auto_columns": null,
       "grid_auto_flow": null,
       "grid_auto_rows": null,
       "grid_column": null,
       "grid_gap": null,
       "grid_row": null,
       "grid_template_areas": null,
       "grid_template_columns": null,
       "grid_template_rows": null,
       "height": null,
       "justify_content": null,
       "justify_items": null,
       "left": null,
       "margin": null,
       "max_height": null,
       "max_width": null,
       "min_height": null,
       "min_width": null,
       "object_fit": null,
       "object_position": null,
       "order": null,
       "overflow": null,
       "overflow_x": null,
       "overflow_y": null,
       "padding": null,
       "right": null,
       "top": null,
       "visibility": null,
       "width": null
      }
     },
     "a5fef0d32705483da0d472b39cc5dada": {
      "model_module": "@jupyter-widgets/base",
      "model_module_version": "1.2.0",
      "model_name": "LayoutModel",
      "state": {
       "_model_module": "@jupyter-widgets/base",
       "_model_module_version": "1.2.0",
       "_model_name": "LayoutModel",
       "_view_count": null,
       "_view_module": "@jupyter-widgets/base",
       "_view_module_version": "1.2.0",
       "_view_name": "LayoutView",
       "align_content": null,
       "align_items": null,
       "align_self": null,
       "border": null,
       "bottom": null,
       "display": null,
       "flex": null,
       "flex_flow": null,
       "grid_area": null,
       "grid_auto_columns": null,
       "grid_auto_flow": null,
       "grid_auto_rows": null,
       "grid_column": null,
       "grid_gap": null,
       "grid_row": null,
       "grid_template_areas": null,
       "grid_template_columns": null,
       "grid_template_rows": null,
       "height": null,
       "justify_content": null,
       "justify_items": null,
       "left": null,
       "margin": null,
       "max_height": null,
       "max_width": null,
       "min_height": null,
       "min_width": null,
       "object_fit": null,
       "object_position": null,
       "order": null,
       "overflow": null,
       "overflow_x": null,
       "overflow_y": null,
       "padding": null,
       "right": null,
       "top": null,
       "visibility": null,
       "width": "50px"
      }
     },
     "a7cefabee3174622b585a21e86598b87": {
      "model_module": "@jupyter-widgets/controls",
      "model_module_version": "1.5.0",
      "model_name": "ButtonModel",
      "state": {
       "_dom_classes": [],
       "_model_module": "@jupyter-widgets/controls",
       "_model_module_version": "1.5.0",
       "_model_name": "ButtonModel",
       "_view_count": null,
       "_view_module": "@jupyter-widgets/controls",
       "_view_module_version": "1.5.0",
       "_view_name": "ButtonView",
       "button_style": "",
       "description": "◄◄",
       "disabled": false,
       "icon": "",
       "layout": "IPY_MODEL_5e31d77ffee440ef93536f2aa2d9d777",
       "style": "IPY_MODEL_79830e6fab974eaf8766db0a97c3c4d6",
       "tooltip": ""
      }
     },
     "ab62ace087ea4951ba2cd045ada513af": {
      "model_module": "@jupyter-widgets/controls",
      "model_module_version": "1.5.0",
      "model_name": "IntSliderModel",
      "state": {
       "_dom_classes": [],
       "_model_module": "@jupyter-widgets/controls",
       "_model_module_version": "1.5.0",
       "_model_name": "IntSliderModel",
       "_view_count": null,
       "_view_module": "@jupyter-widgets/controls",
       "_view_module_version": "1.5.0",
       "_view_name": "IntSliderView",
       "continuous_update": true,
       "description": "Index",
       "description_tooltip": null,
       "disabled": false,
       "layout": "IPY_MODEL_88dbe97bee8b459e9e782847ad42f7ca",
       "max": 66628,
       "min": 0,
       "orientation": "horizontal",
       "readout": true,
       "readout_format": "d",
       "step": 1,
       "style": "IPY_MODEL_76d22f465e06473ab305b83dcb804852",
       "value": 0
      }
     },
     "e723a8f09c9e49118a3a9eedcc5aa69a": {
      "model_module": "@jupyter-widgets/controls",
      "model_module_version": "1.5.0",
      "model_name": "ButtonModel",
      "state": {
       "_dom_classes": [],
       "_model_module": "@jupyter-widgets/controls",
       "_model_module_version": "1.5.0",
       "_model_name": "ButtonModel",
       "_view_count": null,
       "_view_module": "@jupyter-widgets/controls",
       "_view_module_version": "1.5.0",
       "_view_name": "ButtonView",
       "button_style": "",
       "description": "►►",
       "disabled": false,
       "icon": "",
       "layout": "IPY_MODEL_a5fef0d32705483da0d472b39cc5dada",
       "style": "IPY_MODEL_97ae1351a20d4e1b8ee3b50be4bc2c80",
       "tooltip": ""
      }
     }
    },
    "version_major": 2,
    "version_minor": 0
   }
  }
 },
 "nbformat": 4,
 "nbformat_minor": 4
}
